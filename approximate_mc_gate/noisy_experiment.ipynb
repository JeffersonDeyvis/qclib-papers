{
 "cells": [
  {
   "cell_type": "markdown",
   "id": "37173b324e8500a7",
   "metadata": {
    "collapsed": false
   },
   "source": [
    "### Libraries"
   ]
  },
  {
   "cell_type": "code",
   "execution_count": 1,
   "id": "9523e6a318c717d9",
   "metadata": {
    "collapsed": false,
    "ExecuteTime": {
     "end_time": "2024-06-07T19:35:17.716065Z",
     "start_time": "2024-06-07T19:35:16.562383Z"
    }
   },
   "outputs": [],
   "source": [
    "from typing import Union\n",
    "import numpy as np\n",
    "from qclib.gates.mcu import MCU\n",
    "from qclib.gates.ldmcu import Ldmcu\n",
    "from qiskit import (QuantumCircuit,\n",
    "                    QuantumRegister,\n",
    "                    transpile)\n",
    "from qiskit.providers.fake_provider import GenericBackendV2\n",
    "from qiskit.quantum_info import state_fidelity, DensityMatrix\n",
    "from qiskit_aer import AerSimulator\n",
    "from qiskit_aer.noise import NoiseModel\n",
    "import matplotlib.pyplot as plt"
   ]
  },
  {
   "cell_type": "code",
   "execution_count": 2,
   "id": "4682e7f19fb94c52",
   "metadata": {
    "collapsed": false,
    "ExecuteTime": {
     "end_time": "2024-06-07T19:35:17.721470Z",
     "start_time": "2024-06-07T19:35:17.717073Z"
    }
   },
   "outputs": [],
   "source": [
    "class Utilities:\n",
    "\n",
    "    def __init__(self, operator, error):\n",
    "        self.operator = operator\n",
    "        self.error = error\n",
    "\n",
    "    @staticmethod\n",
    "    def pauli_matrices(string: str) -> Union[np.ndarray, None]:\n",
    "        string_case = string.lower()\n",
    "        match string_case:\n",
    "            case \"x\":\n",
    "                return np.array([\n",
    "                    [0, 1],\n",
    "                    [1, 0]\n",
    "                ])\n",
    "            case \"y\":\n",
    "                return np.array([\n",
    "                    [0, -1j],\n",
    "                    [1j, 0]\n",
    "                ])\n",
    "            case \"z\":\n",
    "                return np.array([\n",
    "                    [1, 0],\n",
    "                    [0, -1]\n",
    "                ])\n",
    "            case _:\n",
    "                return None\n",
    "\n",
    "    @staticmethod\n",
    "    def transpose_conjugate(operator):\n",
    "        return np.conjugate(np.transpose(operator))\n",
    "\n",
    "    @staticmethod\n",
    "    def pyramid_size(operator, error):\n",
    "        mcu_dummy = MCU(operator, num_controls=100, error=error)\n",
    "        # will be changed by mcu_dummy._get_n_base(x_dagger, error)\n",
    "        return mcu_dummy._get_num_base_ctrl_qubits(operator, error)\n"
   ]
  },
  {
   "cell_type": "code",
   "execution_count": 3,
   "id": "9a49dbad83ff304a",
   "metadata": {
    "collapsed": false,
    "ExecuteTime": {
     "end_time": "2024-06-07T19:35:17.726487Z",
     "start_time": "2024-06-07T19:35:17.721470Z"
    }
   },
   "outputs": [],
   "source": [
    "def built_circuit(extra_qubits=0, pauli_string='x', error=0.1, approximated=True):\n",
    "    \n",
    "    pauli_matrix = Utilities.pauli_matrices(pauli_string)\n",
    "    pauli_matrix_dagger = Utilities.transpose_conjugate(pauli_matrix)\n",
    "    n_base = Utilities.pyramid_size(pauli_matrix_dagger, error)\n",
    "\n",
    "    controls = QuantumRegister(n_base + extra_qubits, 'controls')\n",
    "    target = QuantumRegister(1, 'target')\n",
    "    circ = QuantumCircuit(controls, target)\n",
    "    circ.x(list(range(len(controls)+1)))\n",
    "    \n",
    "    if approximated:\n",
    "        MCU.mcu(circ, pauli_matrix_dagger, controls, target, error)\n",
    "    else:\n",
    "        Ldmcu.ldmcu(circ, pauli_matrix_dagger, controls, target)\n",
    "        \n",
    "    # circ.measure_all()\n",
    "    \n",
    "    return circ"
   ]
  },
  {
   "cell_type": "code",
   "outputs": [],
   "source": [
    "n_extra = 0\n",
    "error = 0.1\n",
    "matrix = 'x'"
   ],
   "metadata": {
    "collapsed": false,
    "ExecuteTime": {
     "end_time": "2024-06-07T19:35:17.729534Z",
     "start_time": "2024-06-07T19:35:17.726487Z"
    }
   },
   "id": "b29065e799785418",
   "execution_count": 4
  },
  {
   "cell_type": "code",
   "execution_count": 5,
   "id": "7803f0d6c89dc9d0",
   "metadata": {
    "collapsed": false,
    "ExecuteTime": {
     "end_time": "2024-06-07T19:35:17.775388Z",
     "start_time": "2024-06-07T19:35:17.730540Z"
    }
   },
   "outputs": [
    {
     "name": "stdout",
     "output_type": "stream",
     "text": [
      "            ┌───┐┌──────────────┐\n",
      "controls_0: ┤ X ├┤0             ├\n",
      "            ├───┤│              │\n",
      "controls_1: ┤ X ├┤1             ├\n",
      "            ├───┤│              │\n",
      "controls_2: ┤ X ├┤2             ├\n",
      "            ├───┤│              │\n",
      "controls_3: ┤ X ├┤3 Ldmcuapprox ├\n",
      "            ├───┤│              │\n",
      "controls_4: ┤ X ├┤4             ├\n",
      "            ├───┤│              │\n",
      "controls_5: ┤ X ├┤5             ├\n",
      "            ├───┤│              │\n",
      "    target: ┤ X ├┤6             ├\n",
      "            └───┘└──────────────┘\n"
     ]
    }
   ],
   "source": [
    "approx_circuit = built_circuit(n_extra, matrix, error)\n",
    "print(approx_circuit)"
   ]
  },
  {
   "cell_type": "code",
   "execution_count": 6,
   "id": "56fa634efffb4822",
   "metadata": {
    "collapsed": false,
    "ExecuteTime": {
     "end_time": "2024-06-07T19:35:17.778691Z",
     "start_time": "2024-06-07T19:35:17.775892Z"
    }
   },
   "outputs": [],
   "source": [
    "real_circuit = built_circuit(n_extra, matrix, error, False)\n",
    "# print(real_circuit)"
   ]
  },
  {
   "cell_type": "code",
   "outputs": [
    {
     "data": {
      "text/plain": "('automatic',\n 'statevector',\n 'density_matrix',\n 'stabilizer',\n 'matrix_product_state',\n 'extended_stabilizer',\n 'unitary',\n 'superop')"
     },
     "execution_count": 7,
     "metadata": {},
     "output_type": "execute_result"
    }
   ],
   "source": [
    "simulator = AerSimulator()\n",
    "AerSimulator.available_methods(simulator)"
   ],
   "metadata": {
    "collapsed": false,
    "ExecuteTime": {
     "end_time": "2024-06-07T19:35:17.783914Z",
     "start_time": "2024-06-07T19:35:17.778691Z"
    }
   },
   "id": "90a84f9b9332e9a5",
   "execution_count": 7
  },
  {
   "cell_type": "code",
   "execution_count": 8,
   "id": "2881dc2862bbb658",
   "metadata": {
    "collapsed": false,
    "ExecuteTime": {
     "end_time": "2024-06-07T19:35:17.787771Z",
     "start_time": "2024-06-07T19:35:17.783914Z"
    }
   },
   "outputs": [],
   "source": [
    "def density_matrix(circuit):\n",
    "    \n",
    "    size = len(circuit)\n",
    "    backend = GenericBackendV2(num_qubits=size)\n",
    "    noise_model = NoiseModel.from_backend(backend)\n",
    "    \n",
    "    simulator = AerSimulator(noise_model=noise_model)\n",
    "    transpiled_circuit = transpile(circuit, simulator)\n",
    "    transpiled_circuit.save_statevector()\n",
    "    \n",
    "    job = simulator.run(transpiled_circuit)\n",
    "    result = job.result()\n",
    "    sv = result.get_statevector()\n",
    "    # result = job.result().get_counts(0)\n",
    "    # d_m = DensityMatrix(transpiled_circuit)\n",
    "    return sv"
   ]
  },
  {
   "cell_type": "code",
   "execution_count": 9,
   "id": "1199874cd0076480",
   "metadata": {
    "collapsed": false,
    "ExecuteTime": {
     "end_time": "2024-06-07T19:35:18.315554Z",
     "start_time": "2024-06-07T19:35:17.787771Z"
    }
   },
   "outputs": [],
   "source": [
    "rc_density_matrix = density_matrix(real_circuit)"
   ]
  },
  {
   "cell_type": "code",
   "execution_count": 10,
   "id": "37b6f0c41b7f9b19",
   "metadata": {
    "collapsed": false,
    "ExecuteTime": {
     "end_time": "2024-06-07T19:35:18.742960Z",
     "start_time": "2024-06-07T19:35:18.316059Z"
    }
   },
   "outputs": [],
   "source": [
    "ac_density_matrix = density_matrix(approx_circuit)"
   ]
  },
  {
   "cell_type": "markdown",
   "id": "376d4b6451c4bc74",
   "metadata": {
    "collapsed": false
   },
   "source": [
    "### State Fidelity"
   ]
  },
  {
   "cell_type": "code",
   "execution_count": 11,
   "id": "1e45d89a7288ca48",
   "metadata": {
    "collapsed": false,
    "ExecuteTime": {
     "end_time": "2024-06-07T19:35:18.747629Z",
     "start_time": "2024-06-07T19:35:18.743968Z"
    }
   },
   "outputs": [
    {
     "data": {
      "text/plain": "0.9976114311519686"
     },
     "execution_count": 11,
     "metadata": {},
     "output_type": "execute_result"
    }
   ],
   "source": [
    "state_fidelity(rc_density_matrix, ac_density_matrix)"
   ]
  },
  {
   "cell_type": "code",
   "outputs": [],
   "source": [],
   "metadata": {
    "collapsed": false,
    "ExecuteTime": {
     "end_time": "2024-06-07T19:35:18.750110Z",
     "start_time": "2024-06-07T19:35:18.748637Z"
    }
   },
   "id": "e76d01afd6b61175",
   "execution_count": 11
  }
 ],
 "metadata": {
  "kernelspec": {
   "display_name": "Python 3",
   "language": "python",
   "name": "python3"
  },
  "language_info": {
   "codemirror_mode": {
    "name": "ipython",
    "version": 3
   },
   "file_extension": ".py",
   "mimetype": "text/x-python",
   "name": "python",
   "nbconvert_exporter": "python",
   "pygments_lexer": "ipython3",
   "version": "3.11.9"
  }
 },
 "nbformat": 4,
 "nbformat_minor": 5
}
