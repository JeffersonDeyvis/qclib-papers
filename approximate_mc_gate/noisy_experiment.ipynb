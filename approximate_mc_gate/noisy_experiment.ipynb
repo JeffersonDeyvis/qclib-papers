{
 "cells": [
  {
   "cell_type": "markdown",
   "id": "37173b324e8500a7",
   "metadata": {
    "collapsed": false
   },
   "source": [
    "### Libraries"
   ]
  },
  {
   "cell_type": "code",
   "execution_count": 1,
   "id": "9523e6a318c717d9",
   "metadata": {
    "ExecuteTime": {
     "end_time": "2024-05-27T14:19:31.310616Z",
     "start_time": "2024-05-27T14:19:29.412272Z"
    },
    "collapsed": false
   },
   "outputs": [],
   "source": [
    "from typing import Union\n",
    "import numpy as np\n",
    "from qclib.gates.mcu import MCU\n",
    "from qclib.gates.ldmcu import Ldmcu\n",
    "from qiskit import (QuantumCircuit,\n",
    "                    QuantumRegister,\n",
    "                    transpile)\n",
    "from qiskit.providers.fake_provider import GenericBackendV2\n",
    "# from joblib import Parallel, delayed\n",
    "import matplotlib.pyplot as plt"
   ]
  },
  {
   "cell_type": "code",
   "execution_count": 2,
   "id": "4682e7f19fb94c52",
   "metadata": {
    "ExecuteTime": {
     "end_time": "2024-05-27T14:19:31.315391Z",
     "start_time": "2024-05-27T14:19:31.311625Z"
    },
    "collapsed": false
   },
   "outputs": [],
   "source": [
    "class Utilities:\n",
    "\n",
    "    def __init__(self, operator, error):\n",
    "        self.operator = operator\n",
    "        self.error = error\n",
    "\n",
    "    @staticmethod\n",
    "    def pauli_matrices(string: str) -> Union[np.ndarray, None]:\n",
    "        string_case = string.lower()\n",
    "        match string_case:\n",
    "            case \"x\":\n",
    "                return np.array([\n",
    "                    [0, 1],\n",
    "                    [1, 0]\n",
    "                ])\n",
    "            case \"y\":\n",
    "                return np.array([\n",
    "                    [0, -1j],\n",
    "                    [1j, 0]\n",
    "                ])\n",
    "            case \"z\":\n",
    "                return np.array([\n",
    "                    [1, 0],\n",
    "                    [0, -1]\n",
    "                ])\n",
    "            case _:\n",
    "                return None\n",
    "\n",
    "    @staticmethod\n",
    "    def transpose_conjugate(operator):\n",
    "        return np.conjugate(np.transpose(operator))\n",
    "\n",
    "    @staticmethod\n",
    "    def pyramid_size(operator, error):\n",
    "        mcu_dummy = MCU(operator, num_controls=100, error=error)\n",
    "        # will be changed by mcu_dummy._get_n_base(x_dagger, error)\n",
    "        return mcu_dummy._get_num_base_ctrl_qubits(operator, error)\n"
   ]
  },
  {
   "cell_type": "code",
   "execution_count": 3,
   "id": "9a49dbad83ff304a",
   "metadata": {
    "ExecuteTime": {
     "end_time": "2024-05-27T14:19:31.319107Z",
     "start_time": "2024-05-27T14:19:31.315391Z"
    },
    "collapsed": false
   },
   "outputs": [],
   "source": [
    "def built_circuit(pauli_string='x', error=0.1, approximated = True):\n",
    "    \n",
    "    pauli_matrix = Utilities.pauli_matrices(pauli_string)\n",
    "    pauli_matrix_dagger = Utilities.transpose_conjugate(pauli_matrix)\n",
    "    n_base = Utilities.pyramid_size(pauli_matrix_dagger, error)\n",
    "\n",
    "    controls = QuantumRegister(n_base, 'controls')\n",
    "    target = QuantumRegister(1, 'target')\n",
    "    circ = QuantumCircuit(controls, target)\n",
    "    circ.x(list(range(len(controls)+1)))\n",
    "    \n",
    "    if approximated:\n",
    "        MCU.mcu(circ, pauli_matrix_dagger, controls, target, error)\n",
    "    else:\n",
    "        Ldmcu.ldmcu(circ, pauli_matrix_dagger, controls, target)\n",
    "        \n",
    "    # circ.measure_all()\n",
    "    \n",
    "    return circ"
   ]
  },
  {
   "cell_type": "code",
   "execution_count": 4,
   "id": "7803f0d6c89dc9d0",
   "metadata": {
    "ExecuteTime": {
     "end_time": "2024-05-27T14:19:31.380159Z",
     "start_time": "2024-05-27T14:19:31.319107Z"
    },
    "collapsed": false
   },
   "outputs": [
    {
     "name": "stdout",
     "output_type": "stream",
     "text": [
      "            ┌───┐┌──────────────┐\n",
      "controls_0: ┤ X ├┤0             ├\n",
      "            ├───┤│              │\n",
      "controls_1: ┤ X ├┤1             ├\n",
      "            ├───┤│              │\n",
      "controls_2: ┤ X ├┤2             ├\n",
      "            ├───┤│              │\n",
      "controls_3: ┤ X ├┤3 Ldmcuapprox ├\n",
      "            ├───┤│              │\n",
      "controls_4: ┤ X ├┤4             ├\n",
      "            ├───┤│              │\n",
      "controls_5: ┤ X ├┤5             ├\n",
      "            ├───┤│              │\n",
      "    target: ┤ X ├┤6             ├\n",
      "            └───┘└──────────────┘\n"
     ]
    }
   ],
   "source": [
    "approx_circuit = built_circuit('x', 0.1)\n",
    "print(approx_circuit)"
   ]
  },
  {
   "cell_type": "code",
   "execution_count": 5,
   "id": "56fa634efffb4822",
   "metadata": {
    "ExecuteTime": {
     "end_time": "2024-05-27T14:19:31.386335Z",
     "start_time": "2024-05-27T14:19:31.381162Z"
    },
    "collapsed": false
   },
   "outputs": [
    {
     "name": "stdout",
     "output_type": "stream",
     "text": [
      "            ┌───┐┌────────┐\n",
      "controls_0: ┤ X ├┤0       ├\n",
      "            ├───┤│        │\n",
      "controls_1: ┤ X ├┤1       ├\n",
      "            ├───┤│        │\n",
      "controls_2: ┤ X ├┤2       ├\n",
      "            ├───┤│        │\n",
      "controls_3: ┤ X ├┤3 Ldmcu ├\n",
      "            ├───┤│        │\n",
      "controls_4: ┤ X ├┤4       ├\n",
      "            ├───┤│        │\n",
      "controls_5: ┤ X ├┤5       ├\n",
      "            ├───┤│        │\n",
      "    target: ┤ X ├┤6       ├\n",
      "            └───┘└────────┘\n"
     ]
    }
   ],
   "source": [
    "real_circuit = built_circuit('x', 0.1, False)\n",
    "print(real_circuit)"
   ]
  },
  {
   "cell_type": "code",
   "execution_count": 6,
   "id": "3a94995b8bd53f26",
   "metadata": {
    "ExecuteTime": {
     "end_time": "2024-05-27T15:14:25.289858Z",
     "start_time": "2024-05-27T15:14:25.287625Z"
    },
    "collapsed": false
   },
   "outputs": [],
   "source": [
    "from qiskit.quantum_info import DensityMatrix\n",
    "from qiskit_aer import AerSimulator\n",
    "from qiskit_aer.noise import NoiseModel"
   ]
  },
  {
   "cell_type": "code",
   "execution_count": 7,
   "id": "d64b59458661268f",
   "metadata": {
    "ExecuteTime": {
     "end_time": "2024-05-27T15:14:26.595525Z",
     "start_time": "2024-05-27T15:14:26.592211Z"
    },
    "collapsed": false
   },
   "outputs": [],
   "source": [
    "sim = AerSimulator\n",
    "AerSimulator.available_methods(sim)"
   ]
  },
  {
   "cell_type": "code",
   "execution_count": 8,
   "id": "2881dc2862bbb658",
   "metadata": {
    "ExecuteTime": {
     "end_time": "2024-05-27T15:33:26.173022Z",
     "start_time": "2024-05-27T15:33:26.170181Z"
    },
    "collapsed": false
   },
   "outputs": [],
   "source": [
    "from qiskit.quantum_info import DensityMatrix, partial_trace, state_fidelity\n",
    "\n",
    "def density_matrix(circuit):\n",
    "    \n",
    "    size = len(circuit)\n",
    "    backend = GenericBackendV2(num_qubits=size)\n",
    "    noise_model = NoiseModel.from_backend(backend)\n",
    "    \n",
    "    simulator = AerSimulator(noise_model=noise_model)\n",
    "    transpiled_circuit = transpile(circuit, simulator)\n",
    "    \n",
    "    # job = simulator.run(transpiled_circuit)\n",
    "    # result = job.result()\n",
    "    # d_m = result.get_unitary(transpiled_circuit)\n",
    "\n",
    "    d_m = DensityMatrix(transpiled_circuit)\n",
    "    return d_m"
   ]
  },
  {
   "cell_type": "code",
   "execution_count": 9,
   "id": "1199874cd0076480",
   "metadata": {
    "ExecuteTime": {
     "end_time": "2024-05-27T15:33:28.268181Z",
     "start_time": "2024-05-27T15:33:26.580898Z"
    },
    "collapsed": false
   },
   "outputs": [],
   "source": [
    "rc_density_matrix = density_matrix(real_circuit)"
   ]
  },
  {
   "cell_type": "code",
   "execution_count": 10,
   "id": "37b6f0c41b7f9b19",
   "metadata": {
    "collapsed": false
   },
   "outputs": [],
   "source": [
    "ac_density_matrix = density_matrix(approx_circuit)"
   ]
  },
  {
   "cell_type": "markdown",
   "id": "376d4b6451c4bc74",
   "metadata": {
    "collapsed": false
   },
   "source": [
    "### Adicionar medida de fidelidade."
   ]
  },
  {
   "cell_type": "code",
   "execution_count": 63,
   "id": "154a21a535e98826",
   "metadata": {
    "ExecuteTime": {
     "end_time": "2024-05-27T15:33:43.801704Z",
     "start_time": "2024-05-27T15:33:43.799065Z"
    },
    "collapsed": false
   },
   "outputs": [],
   "source": [
    "from qiskit.quantum_info import state_fidelity"
   ]
  },
  {
   "cell_type": "code",
   "execution_count": null,
   "id": "1e45d89a7288ca48",
   "metadata": {
    "collapsed": false
   },
   "outputs": [],
   "source": []
  }
 ],
 "metadata": {
  "kernelspec": {
   "display_name": "Python 3",
   "language": "python",
   "name": "python3"
  },
  "language_info": {
   "codemirror_mode": {
    "name": "ipython",
    "version": 3
   },
   "file_extension": ".py",
   "mimetype": "text/x-python",
   "name": "python",
   "nbconvert_exporter": "python",
   "pygments_lexer": "ipython3",
   "version": "3.11.9"
  }
 },
 "nbformat": 4,
 "nbformat_minor": 5
}
