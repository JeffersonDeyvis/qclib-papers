{
 "cells": [
  {
   "cell_type": "markdown",
   "source": [
    "### Libraries"
   ],
   "metadata": {
    "collapsed": false
   },
   "id": "37173b324e8500a7"
  },
  {
   "cell_type": "code",
   "outputs": [],
   "source": [
    "from typing import Union\n",
    "import numpy as np\n",
    "from qclib.gates.mcu import MCU\n",
    "from qiskit import (QuantumCircuit,\n",
    "                    QuantumRegister,\n",
    "                    transpile)\n",
    "from qiskit.providers.fake_provider import GenericBackendV2\n",
    "# from joblib import Parallel, delayed\n",
    "import matplotlib.pyplot as plt"
   ],
   "metadata": {
    "collapsed": false,
    "ExecuteTime": {
     "end_time": "2024-05-26T22:46:37.929794Z",
     "start_time": "2024-05-26T22:46:36.933595Z"
    }
   },
   "id": "9523e6a318c717d9",
   "execution_count": 1
  },
  {
   "cell_type": "code",
   "outputs": [],
   "source": [
    "class Utilities:\n",
    "\n",
    "    def __init__(self, operator, error):\n",
    "        self.operator = operator\n",
    "        self.error = error\n",
    "\n",
    "    @staticmethod\n",
    "    def pauli_matrices(string: str) -> Union[np.ndarray, None]:\n",
    "        string_case = string.lower()\n",
    "        match string_case:\n",
    "            case \"x\":\n",
    "                return np.array([\n",
    "                    [0, 1],\n",
    "                    [1, 0]\n",
    "                ])\n",
    "            case \"y\":\n",
    "                return np.array([\n",
    "                    [0, -1j],\n",
    "                    [1j, 0]\n",
    "                ])\n",
    "            case \"z\":\n",
    "                return np.array([\n",
    "                    [1, 0],\n",
    "                    [0, -1]\n",
    "                ])\n",
    "            case _:\n",
    "                return None\n",
    "\n",
    "    @staticmethod\n",
    "    def transpose_conjugate(operator):\n",
    "        return np.conjugate(np.transpose(operator))\n",
    "\n",
    "    @staticmethod\n",
    "    def pyramid_size(operator, error):\n",
    "        mcu_dummy = MCU(operator, num_controls=100, error=error)\n",
    "        # will be changed by mcu_dummy._get_n_base(x_dagger, error)\n",
    "        return mcu_dummy._get_num_base_ctrl_qubits(operator, error)\n"
   ],
   "metadata": {
    "collapsed": false,
    "ExecuteTime": {
     "end_time": "2024-05-26T22:46:38.322399Z",
     "start_time": "2024-05-26T22:46:38.317734Z"
    }
   },
   "id": "4682e7f19fb94c52",
   "execution_count": 2
  },
  {
   "cell_type": "code",
   "outputs": [],
   "source": [
    "def built_circuit(pauli_string='x', error=0.1, approximated = True):\n",
    "    \n",
    "    pauli_matrix = Utilities.pauli_matrices(pauli_string)\n",
    "    pauli_matrix_dagger = Utilities.transpose_conjugate(pauli_matrix)\n",
    "    n_base = Utilities.pyramid_size(pauli_matrix_dagger, error)\n",
    "\n",
    "    controls = QuantumRegister(n_base, 'controls')\n",
    "    target = QuantumRegister(1, 'target')\n",
    "    # classical = ClassicalRegister(1, \"classic\")\n",
    "\n",
    "    circ = QuantumCircuit(controls, target) #, classical)\n",
    "    for i in range(len(controls)):\n",
    "        circ.x(i)\n",
    "    circ.x(target)\n",
    "    if approximated:\n",
    "      MCU.mcu(circ, pauli_matrix_dagger, controls, target, error)\n",
    "    else:\n",
    "      MCU.mcu(circ, pauli_matrix_dagger, controls, target, 0)\n",
    "    # circ.measure(target, [0])\n",
    "    circ.measure_all()\n",
    "    return circ"
   ],
   "metadata": {
    "collapsed": false,
    "ExecuteTime": {
     "end_time": "2024-05-26T22:53:02.979613Z",
     "start_time": "2024-05-26T22:53:02.975934Z"
    }
   },
   "id": "9a49dbad83ff304a",
   "execution_count": 13
  },
  {
   "cell_type": "code",
   "outputs": [
    {
     "name": "stdout",
     "output_type": "stream",
     "text": [
      "            ┌───┐┌──────────────┐ ░ ┌─┐                  \n",
      "controls_0: ┤ X ├┤0             ├─░─┤M├──────────────────\n",
      "            ├───┤│              │ ░ └╥┘┌─┐               \n",
      "controls_1: ┤ X ├┤1             ├─░──╫─┤M├───────────────\n",
      "            ├───┤│              │ ░  ║ └╥┘┌─┐            \n",
      "controls_2: ┤ X ├┤2             ├─░──╫──╫─┤M├────────────\n",
      "            ├───┤│              │ ░  ║  ║ └╥┘┌─┐         \n",
      "controls_3: ┤ X ├┤3 Ldmcuapprox ├─░──╫──╫──╫─┤M├─────────\n",
      "            ├───┤│              │ ░  ║  ║  ║ └╥┘┌─┐      \n",
      "controls_4: ┤ X ├┤4             ├─░──╫──╫──╫──╫─┤M├──────\n",
      "            ├───┤│              │ ░  ║  ║  ║  ║ └╥┘┌─┐   \n",
      "controls_5: ┤ X ├┤5             ├─░──╫──╫──╫──╫──╫─┤M├───\n",
      "            ├───┤│              │ ░  ║  ║  ║  ║  ║ └╥┘┌─┐\n",
      "    target: ┤ X ├┤6             ├─░──╫──╫──╫──╫──╫──╫─┤M├\n",
      "            └───┘└──────────────┘ ░  ║  ║  ║  ║  ║  ║ └╥┘\n",
      "    meas: 7/═════════════════════════╩══╩══╩══╩══╩══╩══╩═\n",
      "                                     0  1  2  3  4  5  6 \n"
     ]
    }
   ],
   "source": [
    "approx_circuit = built_circuit('x', 0.1)\n",
    "print(approx_circuit)"
   ],
   "metadata": {
    "collapsed": false,
    "ExecuteTime": {
     "end_time": "2024-05-26T22:53:09.289469Z",
     "start_time": "2024-05-26T22:53:09.281499Z"
    }
   },
   "id": "7803f0d6c89dc9d0",
   "execution_count": 15
  },
  {
   "cell_type": "code",
   "outputs": [
    {
     "ename": "OverflowError",
     "evalue": "cannot convert float infinity to integer",
     "output_type": "error",
     "traceback": [
      "\u001B[1;31m---------------------------------------------------------------------------\u001B[0m",
      "\u001B[1;31mOverflowError\u001B[0m                             Traceback (most recent call last)",
      "Cell \u001B[1;32mIn[16], line 1\u001B[0m\n\u001B[1;32m----> 1\u001B[0m real_circuit \u001B[38;5;241m=\u001B[39m \u001B[43mbuilt_circuit\u001B[49m\u001B[43m(\u001B[49m\u001B[38;5;124;43m'\u001B[39;49m\u001B[38;5;124;43mx\u001B[39;49m\u001B[38;5;124;43m'\u001B[39;49m\u001B[43m,\u001B[49m\u001B[43m \u001B[49m\u001B[38;5;241;43m0\u001B[39;49m\u001B[43m)\u001B[49m\n\u001B[0;32m      2\u001B[0m \u001B[38;5;28mprint\u001B[39m(real_circuit)\n",
      "Cell \u001B[1;32mIn[13], line 5\u001B[0m, in \u001B[0;36mbuilt_circuit\u001B[1;34m(pauli_string, error)\u001B[0m\n\u001B[0;32m      3\u001B[0m pauli_matrix \u001B[38;5;241m=\u001B[39m Utilities\u001B[38;5;241m.\u001B[39mpauli_matrices(pauli_string)\n\u001B[0;32m      4\u001B[0m pauli_matrix_dagger \u001B[38;5;241m=\u001B[39m Utilities\u001B[38;5;241m.\u001B[39mtranspose_conjugate(pauli_matrix)\n\u001B[1;32m----> 5\u001B[0m n_base \u001B[38;5;241m=\u001B[39m \u001B[43mUtilities\u001B[49m\u001B[38;5;241;43m.\u001B[39;49m\u001B[43mpyramid_size\u001B[49m\u001B[43m(\u001B[49m\u001B[43mpauli_matrix_dagger\u001B[49m\u001B[43m,\u001B[49m\u001B[43m \u001B[49m\u001B[43merror\u001B[49m\u001B[43m)\u001B[49m\n\u001B[0;32m      7\u001B[0m controls \u001B[38;5;241m=\u001B[39m QuantumRegister(n_base, \u001B[38;5;124m'\u001B[39m\u001B[38;5;124mcontrols\u001B[39m\u001B[38;5;124m'\u001B[39m)\n\u001B[0;32m      8\u001B[0m target \u001B[38;5;241m=\u001B[39m QuantumRegister(\u001B[38;5;241m1\u001B[39m, \u001B[38;5;124m'\u001B[39m\u001B[38;5;124mtarget\u001B[39m\u001B[38;5;124m'\u001B[39m)\n",
      "Cell \u001B[1;32mIn[2], line 35\u001B[0m, in \u001B[0;36mUtilities.pyramid_size\u001B[1;34m(operator, error)\u001B[0m\n\u001B[0;32m     33\u001B[0m \u001B[38;5;129m@staticmethod\u001B[39m\n\u001B[0;32m     34\u001B[0m \u001B[38;5;28;01mdef\u001B[39;00m \u001B[38;5;21mpyramid_size\u001B[39m(operator, error):\n\u001B[1;32m---> 35\u001B[0m     mcu_dummy \u001B[38;5;241m=\u001B[39m \u001B[43mMCU\u001B[49m\u001B[43m(\u001B[49m\u001B[43moperator\u001B[49m\u001B[43m,\u001B[49m\u001B[43m \u001B[49m\u001B[43mnum_controls\u001B[49m\u001B[38;5;241;43m=\u001B[39;49m\u001B[38;5;241;43m100\u001B[39;49m\u001B[43m,\u001B[49m\u001B[43m \u001B[49m\u001B[43merror\u001B[49m\u001B[38;5;241;43m=\u001B[39;49m\u001B[43merror\u001B[49m\u001B[43m)\u001B[49m\n\u001B[0;32m     36\u001B[0m     \u001B[38;5;66;03m# will be changed by mcu_dummy._get_n_base(x_dagger, error)\u001B[39;00m\n\u001B[0;32m     37\u001B[0m     \u001B[38;5;28;01mreturn\u001B[39;00m mcu_dummy\u001B[38;5;241m.\u001B[39m_get_num_base_ctrl_qubits(operator, error)\n",
      "File \u001B[1;32mD:\\UFPE\\env_paper\\qclib-papers\\Lib\\site-packages\\qclib\\gates\\mcu.py:59\u001B[0m, in \u001B[0;36mMCU.__init__\u001B[1;34m(self, unitary, num_controls, error, ctrl_state)\u001B[0m\n\u001B[0;32m     55\u001B[0m     \u001B[38;5;28mself\u001B[39m\u001B[38;5;241m.\u001B[39mcontrol_qubits \u001B[38;5;241m=\u001B[39m []\n\u001B[0;32m     57\u001B[0m \u001B[38;5;28mself\u001B[39m\u001B[38;5;241m.\u001B[39mtarget_qubit \u001B[38;5;241m=\u001B[39m QuantumRegister(\u001B[38;5;241m1\u001B[39m)\n\u001B[1;32m---> 59\u001B[0m \u001B[38;5;28mself\u001B[39m\u001B[38;5;241m.\u001B[39mn_ctrl_base \u001B[38;5;241m=\u001B[39m \u001B[38;5;28;43mself\u001B[39;49m\u001B[38;5;241;43m.\u001B[39;49m\u001B[43m_get_num_base_ctrl_qubits\u001B[49m\u001B[43m(\u001B[49m\u001B[38;5;28;43mself\u001B[39;49m\u001B[38;5;241;43m.\u001B[39;49m\u001B[43munitary\u001B[49m\u001B[43m,\u001B[49m\u001B[43m \u001B[49m\u001B[38;5;28;43mself\u001B[39;49m\u001B[38;5;241;43m.\u001B[39;49m\u001B[43merror\u001B[49m\u001B[43m)\u001B[49m\n\u001B[0;32m     60\u001B[0m \u001B[38;5;28;01mif\u001B[39;00m \u001B[38;5;28mself\u001B[39m\u001B[38;5;241m.\u001B[39mn_ctrl_base \u001B[38;5;241m==\u001B[39m \u001B[38;5;241m0\u001B[39m:\n\u001B[0;32m     61\u001B[0m     \u001B[38;5;28;01mraise\u001B[39;00m \u001B[38;5;167;01mValueError\u001B[39;00m(\u001B[38;5;124m\"\u001B[39m\u001B[38;5;124mThe number of base qubits is 0\u001B[39m\u001B[38;5;124m\"\u001B[39m)\n",
      "File \u001B[1;32mD:\\UFPE\\env_paper\\qclib-papers\\Lib\\site-packages\\qclib\\gates\\mcu.py:111\u001B[0m, in \u001B[0;36mMCU._get_num_base_ctrl_qubits\u001B[1;34m(self, unitary, error)\u001B[0m\n\u001B[0;32m    108\u001B[0m     angle \u001B[38;5;241m=\u001B[39m angles[\u001B[38;5;241m1\u001B[39m]\n\u001B[0;32m    110\u001B[0m quotient \u001B[38;5;241m=\u001B[39m angle \u001B[38;5;241m/\u001B[39m np\u001B[38;5;241m.\u001B[39marccos(\u001B[38;5;241m1\u001B[39m \u001B[38;5;241m-\u001B[39m error\u001B[38;5;241m*\u001B[39m\u001B[38;5;241m*\u001B[39m\u001B[38;5;241m2\u001B[39m \u001B[38;5;241m/\u001B[39m \u001B[38;5;241m2\u001B[39m)\n\u001B[1;32m--> 111\u001B[0m \u001B[38;5;28;01mreturn\u001B[39;00m \u001B[38;5;28;43mint\u001B[39;49m\u001B[43m(\u001B[49m\u001B[43mnp\u001B[49m\u001B[38;5;241;43m.\u001B[39;49m\u001B[43mceil\u001B[49m\u001B[43m(\u001B[49m\u001B[43mnp\u001B[49m\u001B[38;5;241;43m.\u001B[39;49m\u001B[43mlog2\u001B[49m\u001B[43m(\u001B[49m\u001B[43mquotient\u001B[49m\u001B[43m)\u001B[49m\u001B[43m)\u001B[49m\u001B[43m)\u001B[49m \u001B[38;5;241m+\u001B[39m \u001B[38;5;241m1\u001B[39m\n",
      "\u001B[1;31mOverflowError\u001B[0m: cannot convert float infinity to integer"
     ]
    }
   ],
   "source": [
    "real_circuit = built_circuit('x', 0, False)\n",
    "print(real_circuit)"
   ],
   "metadata": {
    "collapsed": false,
    "ExecuteTime": {
     "end_time": "2024-05-26T22:53:26.443480Z",
     "start_time": "2024-05-26T22:53:26.415983Z"
    }
   },
   "id": "56fa634efffb4822",
   "execution_count": 16
  },
  {
   "cell_type": "code",
   "outputs": [],
   "source": [
    "def hist(circuit):\n",
    "    size = len(circuit)\n",
    "    # Generate a size-qubit simulated backend\n",
    "    backend = GenericBackendV2(num_qubits=size)\n",
    "    \n",
    "    # Transpile the circuit to a circuit that can be directly executed by the backend\n",
    "    transpiled_circuit = transpile(circuit, backend)\n",
    "    transpiled_circuit.save_statevector()\n",
    "    \n",
    "    # Run the transpiled circuit using the simulated fake backend\n",
    "    job = backend.run(transpiled_circuit)\n",
    "    result = job.result()\n",
    "    output_state = np.real(result.get_statevector(transpiled_circuit, decimals=100))\n",
    "    return output_state"
   ],
   "metadata": {
    "collapsed": false,
    "ExecuteTime": {
     "end_time": "2024-05-26T21:50:04.570748Z",
     "start_time": "2024-05-26T21:50:04.567154Z"
    }
   },
   "id": "2881dc2862bbb658",
   "execution_count": 98
  },
  {
   "cell_type": "code",
   "outputs": [],
   "source": [
    "rc_state_vector = hist(real_circuit)\n",
    "ac_state_vector = hist(approx_circuit)"
   ],
   "metadata": {
    "collapsed": false,
    "ExecuteTime": {
     "end_time": "2024-05-26T21:50:23.834351Z",
     "start_time": "2024-05-26T21:50:05.405560Z"
    }
   },
   "id": "1199874cd0076480",
   "execution_count": 99
  },
  {
   "cell_type": "markdown",
   "source": [
    "### Adicionar medida de fidelidade."
   ],
   "metadata": {
    "collapsed": false
   },
   "id": "376d4b6451c4bc74"
  },
  {
   "cell_type": "code",
   "outputs": [],
   "source": [
    "from qiskit.quantum_info import Statevector, DensityMatrix, state_fidelity"
   ],
   "metadata": {
    "collapsed": false,
    "ExecuteTime": {
     "end_time": "2024-05-26T21:50:23.837521Z",
     "start_time": "2024-05-26T21:50:23.835353Z"
    }
   },
   "id": "154a21a535e98826",
   "execution_count": 100
  },
  {
   "cell_type": "code",
   "outputs": [
    {
     "ename": "QiskitError",
     "evalue": "'Input quantum state is not a valid'",
     "output_type": "error",
     "traceback": [
      "\u001B[1;31m---------------------------------------------------------------------------\u001B[0m",
      "\u001B[1;31mQiskitError\u001B[0m                               Traceback (most recent call last)",
      "Cell \u001B[1;32mIn[101], line 3\u001B[0m\n\u001B[0;32m      1\u001B[0m sv1 \u001B[38;5;241m=\u001B[39m Statevector(rc_state_vector)\n\u001B[0;32m      2\u001B[0m sv2 \u001B[38;5;241m=\u001B[39m Statevector(ac_state_vector)\n\u001B[1;32m----> 3\u001B[0m fidelity \u001B[38;5;241m=\u001B[39m \u001B[43mstate_fidelity\u001B[49m\u001B[43m(\u001B[49m\u001B[43msv1\u001B[49m\u001B[43m,\u001B[49m\u001B[43m \u001B[49m\u001B[43msv2\u001B[49m\u001B[43m)\u001B[49m\n\u001B[0;32m      4\u001B[0m fidelity\n",
      "File \u001B[1;32mD:\\UFPE\\env_qclib2\\qclib\\Lib\\site-packages\\qiskit\\quantum_info\\states\\measures.py:57\u001B[0m, in \u001B[0;36mstate_fidelity\u001B[1;34m(state1, state2, validate)\u001B[0m\n\u001B[0;32m     32\u001B[0m \u001B[38;5;250m\u001B[39m\u001B[38;5;124mr\u001B[39m\u001B[38;5;124;03m\"\"\"Return the state fidelity between two quantum states.\u001B[39;00m\n\u001B[0;32m     33\u001B[0m \n\u001B[0;32m     34\u001B[0m \u001B[38;5;124;03mThe state fidelity :math:`F` for density matrix input states\u001B[39;00m\n\u001B[1;32m   (...)\u001B[0m\n\u001B[0;32m     54\u001B[0m \u001B[38;5;124;03m    QiskitError: if ``validate=True`` and the inputs are invalid quantum states.\u001B[39;00m\n\u001B[0;32m     55\u001B[0m \u001B[38;5;124;03m\"\"\"\u001B[39;00m\n\u001B[0;32m     56\u001B[0m \u001B[38;5;66;03m# convert input to numpy arrays\u001B[39;00m\n\u001B[1;32m---> 57\u001B[0m state1 \u001B[38;5;241m=\u001B[39m \u001B[43m_format_state\u001B[49m\u001B[43m(\u001B[49m\u001B[43mstate1\u001B[49m\u001B[43m,\u001B[49m\u001B[43m \u001B[49m\u001B[43mvalidate\u001B[49m\u001B[38;5;241;43m=\u001B[39;49m\u001B[43mvalidate\u001B[49m\u001B[43m)\u001B[49m\n\u001B[0;32m     58\u001B[0m state2 \u001B[38;5;241m=\u001B[39m _format_state(state2, validate\u001B[38;5;241m=\u001B[39mvalidate)\n\u001B[0;32m     60\u001B[0m \u001B[38;5;66;03m# Get underlying numpy arrays\u001B[39;00m\n",
      "File \u001B[1;32mD:\\UFPE\\env_qclib2\\qclib\\Lib\\site-packages\\qiskit\\quantum_info\\states\\utils.py:228\u001B[0m, in \u001B[0;36m_format_state\u001B[1;34m(state, validate)\u001B[0m\n\u001B[0;32m    226\u001B[0m     \u001B[38;5;28;01mraise\u001B[39;00m QiskitError(\u001B[38;5;124m\"\u001B[39m\u001B[38;5;124mInput is not a quantum state\u001B[39m\u001B[38;5;124m\"\u001B[39m)\n\u001B[0;32m    227\u001B[0m \u001B[38;5;28;01mif\u001B[39;00m validate \u001B[38;5;129;01mand\u001B[39;00m \u001B[38;5;129;01mnot\u001B[39;00m state\u001B[38;5;241m.\u001B[39mis_valid():\n\u001B[1;32m--> 228\u001B[0m     \u001B[38;5;28;01mraise\u001B[39;00m QiskitError(\u001B[38;5;124m\"\u001B[39m\u001B[38;5;124mInput quantum state is not a valid\u001B[39m\u001B[38;5;124m\"\u001B[39m)\n\u001B[0;32m    229\u001B[0m \u001B[38;5;28;01mreturn\u001B[39;00m state\n",
      "\u001B[1;31mQiskitError\u001B[0m: 'Input quantum state is not a valid'"
     ]
    }
   ],
   "source": [
    "sv1 = Statevector(rc_state_vector)\n",
    "sv2 = Statevector(ac_state_vector)\n",
    "fidelity = state_fidelity(sv1, sv2)\n",
    "fidelity"
   ],
   "metadata": {
    "collapsed": false,
    "ExecuteTime": {
     "end_time": "2024-05-26T21:50:23.859496Z",
     "start_time": "2024-05-26T21:50:23.837521Z"
    }
   },
   "id": "20d0891d5dd3e489",
   "execution_count": 101
  },
  {
   "cell_type": "code",
   "outputs": [
    {
     "data": {
      "text/plain": "        ┌───┐      ░ ┌─┐      \n   q_0: ┤ X ├──■───░─┤M├──────\n        ├───┤  │   ░ └╥┘┌─┐   \n   q_1: ┤ X ├──■───░──╫─┤M├───\n        ├───┤┌─┴─┐ ░  ║ └╥┘┌─┐\n   q_2: ┤ X ├┤ X ├─░──╫──╫─┤M├\n        └───┘└───┘ ░  ║  ║ └╥┘\nmeas: 3/══════════════╩══╩══╩═\n                      0  1  2 ",
      "text/html": "<pre style=\"word-wrap: normal;white-space: pre;background: #fff0;line-height: 1.1;font-family: &quot;Courier New&quot;,Courier,monospace\">        ┌───┐      ░ ┌─┐      \n   q_0: ┤ X ├──■───░─┤M├──────\n        ├───┤  │   ░ └╥┘┌─┐   \n   q_1: ┤ X ├──■───░──╫─┤M├───\n        ├───┤┌─┴─┐ ░  ║ └╥┘┌─┐\n   q_2: ┤ X ├┤ X ├─░──╫──╫─┤M├\n        └───┘└───┘ ░  ║  ║ └╥┘\nmeas: 3/══════════════╩══╩══╩═\n                      0  1  2 </pre>"
     },
     "execution_count": 96,
     "metadata": {},
     "output_type": "execute_result"
    }
   ],
   "source": [
    "c1 = QuantumCircuit(3)\n",
    "c1.x(range(3))\n",
    "c1.ccx(0,1,2)\n",
    "c1.measure_all()\n",
    "c1.draw('text')"
   ],
   "metadata": {
    "collapsed": false,
    "ExecuteTime": {
     "end_time": "2024-05-26T21:47:10.586941Z",
     "start_time": "2024-05-26T21:47:10.581227Z"
    }
   },
   "id": "4375254295e962af",
   "execution_count": 96
  },
  {
   "cell_type": "code",
   "outputs": [
    {
     "name": "stdout",
     "output_type": "stream",
     "text": [
      "256\n"
     ]
    }
   ],
   "source": [
    "sv3 = hist(c1)\n",
    "print(len(sv3))"
   ],
   "metadata": {
    "collapsed": false,
    "ExecuteTime": {
     "end_time": "2024-05-26T21:47:11.996961Z",
     "start_time": "2024-05-26T21:47:11.706879Z"
    }
   },
   "id": "345abe1f0f8143af",
   "execution_count": 97
  },
  {
   "cell_type": "code",
   "outputs": [],
   "source": [],
   "metadata": {
    "collapsed": false
   },
   "id": "1e45d89a7288ca48"
  }
 ],
 "metadata": {
  "kernelspec": {
   "display_name": "Python 3",
   "language": "python",
   "name": "python3"
  },
  "language_info": {
   "codemirror_mode": {
    "name": "ipython",
    "version": 2
   },
   "file_extension": ".py",
   "mimetype": "text/x-python",
   "name": "python",
   "nbconvert_exporter": "python",
   "pygments_lexer": "ipython2",
   "version": "2.7.6"
  }
 },
 "nbformat": 4,
 "nbformat_minor": 5
}
