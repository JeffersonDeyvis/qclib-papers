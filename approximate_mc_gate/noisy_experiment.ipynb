{
 "cells": [
  {
   "cell_type": "markdown",
   "id": "37173b324e8500a7",
   "metadata": {
    "collapsed": false
   },
   "source": [
    "### Libraries"
   ]
  },
  {
   "cell_type": "code",
   "execution_count": 1,
   "id": "9523e6a318c717d9",
   "metadata": {
    "ExecuteTime": {
     "end_time": "2024-06-12T16:23:59.374867Z",
     "start_time": "2024-06-12T16:23:59.371495Z"
    },
    "collapsed": false
   },
   "outputs": [],
   "source": [
    "from typing import Union\n",
    "import numpy as np\n",
    "from qclib.gates.mcu import MCU\n",
    "from qclib.gates.ldmcu import Ldmcu\n",
    "from qiskit import (QuantumCircuit,\n",
    "                    QuantumRegister,\n",
    "                    transpile)\n",
    "from qiskit.providers.fake_provider import GenericBackendV2\n",
    "from qiskit.quantum_info import state_fidelity, Statevector\n",
    "from qiskit_aer import AerSimulator\n",
    "from qiskit_aer.noise import NoiseModel\n",
    "import matplotlib.pyplot as plt"
   ]
  },
  {
   "cell_type": "code",
   "execution_count": 2,
   "id": "4682e7f19fb94c52",
   "metadata": {
    "ExecuteTime": {
     "end_time": "2024-06-12T16:23:59.379568Z",
     "start_time": "2024-06-12T16:23:59.375869Z"
    },
    "collapsed": false
   },
   "outputs": [],
   "source": [
    "class Utilities:\n",
    "\n",
    "    def __init__(self, operator, error):\n",
    "        self.operator = operator\n",
    "        self.error = error\n",
    "\n",
    "    @staticmethod\n",
    "    def pauli_matrices(string: str) -> Union[np.ndarray, None]:\n",
    "        string_case = string.lower()\n",
    "        match string_case:\n",
    "            case \"x\":\n",
    "                return np.array([\n",
    "                    [0, 1],\n",
    "                    [1, 0]\n",
    "                ])\n",
    "            case \"y\":\n",
    "                return np.array([\n",
    "                    [0, -1j],\n",
    "                    [1j, 0]\n",
    "                ])\n",
    "            case \"z\":\n",
    "                return np.array([\n",
    "                    [1, 0],\n",
    "                    [0, -1]\n",
    "                ])\n",
    "            case _:\n",
    "                return None\n",
    "\n",
    "    @staticmethod\n",
    "    def transpose_conjugate(operator):\n",
    "        return np.conjugate(np.transpose(operator))\n",
    "\n",
    "    @staticmethod\n",
    "    def pyramid_size(operator, error):\n",
    "        mcu_dummy = MCU(operator, num_controls=100, error=error)\n",
    "        # will be changed by mcu_dummy._get_n_base(x_dagger, error)\n",
    "        return mcu_dummy._get_num_base_ctrl_qubits(operator, error)\n"
   ]
  },
  {
   "cell_type": "code",
   "execution_count": 3,
   "id": "9a49dbad83ff304a",
   "metadata": {
    "ExecuteTime": {
     "end_time": "2024-06-12T16:23:59.383185Z",
     "start_time": "2024-06-12T16:23:59.379568Z"
    },
    "collapsed": false
   },
   "outputs": [],
   "source": [
    "def built_circuit(extra_qubits=0, pauli_string='x', error=0.1, approximated=True):\n",
    "    \n",
    "    pauli_matrix = Utilities.pauli_matrices(pauli_string)\n",
    "    pauli_matrix_dagger = Utilities.transpose_conjugate(pauli_matrix)\n",
    "    n_base = Utilities.pyramid_size(pauli_matrix_dagger, error)\n",
    "\n",
    "    controls = QuantumRegister(n_base + extra_qubits, 'controls')\n",
    "    target = QuantumRegister(1, 'target')\n",
    "    circ = QuantumCircuit(controls, target)\n",
    "    circ.x(list(range(len(controls))))\n",
    "    \n",
    "    if approximated:\n",
    "        MCU.mcu(circ, pauli_matrix_dagger, controls, target, error)\n",
    "    else:\n",
    "        Ldmcu.ldmcu(circ, pauli_matrix_dagger, controls, target)\n",
    "        \n",
    "    # circ.measure_all()\n",
    "    \n",
    "    return circ"
   ]
  },
  {
   "cell_type": "code",
   "execution_count": 4,
   "id": "b29065e799785418",
   "metadata": {
    "ExecuteTime": {
     "end_time": "2024-06-12T16:23:59.386083Z",
     "start_time": "2024-06-12T16:23:59.384188Z"
    },
    "collapsed": false
   },
   "outputs": [],
   "source": [
    "n_extra = 0\n",
    "error = 0.1\n",
    "matrix = 'x'"
   ]
  },
  {
   "cell_type": "code",
   "execution_count": 5,
   "id": "7803f0d6c89dc9d0",
   "metadata": {
    "ExecuteTime": {
     "end_time": "2024-06-12T16:23:59.389405Z",
     "start_time": "2024-06-12T16:23:59.386083Z"
    },
    "collapsed": false
   },
   "outputs": [],
   "source": [
    "approx_circuit = built_circuit(n_extra, matrix, error)\n",
    "# print(approx_circuit)"
   ]
  },
  {
   "cell_type": "code",
   "execution_count": 6,
   "id": "56fa634efffb4822",
   "metadata": {
    "ExecuteTime": {
     "end_time": "2024-06-12T16:23:59.392592Z",
     "start_time": "2024-06-12T16:23:59.389405Z"
    },
    "collapsed": false
   },
   "outputs": [],
   "source": [
    "real_circuit = built_circuit(n_extra, matrix, error, False)\n",
    "# print(real_circuit)"
   ]
  },
  {
   "cell_type": "code",
   "execution_count": 81,
   "id": "2881dc2862bbb658",
   "metadata": {
    "ExecuteTime": {
     "end_time": "2024-06-12T16:23:59.396412Z",
     "start_time": "2024-06-12T16:23:59.393595Z"
    },
    "collapsed": false
   },
   "outputs": [],
   "source": [
    "def state_vector(circuit):\n",
    "    \n",
    "    size = len(circuit)\n",
    "    backend = GenericBackendV2(num_qubits=size)\n",
    "    noise_model = NoiseModel.from_backend(backend)\n",
    "    \n",
    "    simulator = AerSimulator(noise_model=noise_model)\n",
    "    transpiled_circuit = transpile(circuit, simulator, basis_gates= noise_model.basis_gates)\n",
    "    transpiled_circuit.save_statevector()\n",
    "    \n",
    "    job = simulator.run(transpiled_circuit)\n",
    "    result = job.result()\n",
    "    sv = result.get_statevector()\n",
    "    # result = job.result().get_counts(0)\n",
    "    # d_m = DensityMatrix(transpiled_circuit)\n",
    "    return sv, size"
   ]
  },
  {
   "cell_type": "code",
   "execution_count": 33,
   "id": "e0af82c2",
   "metadata": {},
   "outputs": [],
   "source": [
    "def density_matrix(circuit):\n",
    "    \n",
    "    size = len(circuit)\n",
    "    backend = GenericBackendV2(num_qubits=size, seed=42)\n",
    "    noise_model = NoiseModel.from_backend(backend)\n",
    "    \n",
    "    simulator = AerSimulator(noise_model=noise_model, method='density_matrix')\n",
    "    transpiled_circuit = transpile(circuit, simulator, basis_gates= noise_model.basis_gates)\n",
    "    transpiled_circuit.save_density_matrix()\n",
    "    #d_m = transpiled_circuit.density_matrix()\n",
    "    #return d_m, size\n",
    "    \n",
    "    job = simulator.run(transpiled_circuit)\n",
    "    result = job.result()\n",
    "    d_m = result.data(0)\n",
    "    # result = job.result().get_counts(0)\n",
    "    # d_m = DensityMatrix(transpiled_circuit)\n",
    "    return d_m, size"
   ]
  },
  {
   "cell_type": "code",
   "execution_count": 82,
   "id": "28279cef",
   "metadata": {},
   "outputs": [],
   "source": [
    "def state_vector_noiseless(circuit):\n",
    "    \n",
    "    size = len(circuit)\n",
    "    backend = GenericBackendV2(num_qubits=size)\n",
    "    \n",
    "    simulator = AerSimulator()\n",
    "    transpiled_circuit = transpile(circuit, simulator)\n",
    "    transpiled_circuit.save_statevector()\n",
    "    \n",
    "    job = simulator.run(transpiled_circuit)\n",
    "    result = job.result()\n",
    "    sv = result.get_statevector()\n",
    "    # result = job.result().get_counts(0)\n",
    "    # d_m = DensityMatrix(transpiled_circuit)\n",
    "    return sv, size"
   ]
  },
  {
   "cell_type": "markdown",
   "id": "376d4b6451c4bc74",
   "metadata": {
    "collapsed": false
   },
   "source": [
    "### Noisy"
   ]
  },
  {
   "cell_type": "code",
   "execution_count": 39,
   "id": "1c4f4f99",
   "metadata": {},
   "outputs": [
    {
     "name": "stdout",
     "output_type": "stream",
     "text": [
      "{'density_matrix': DensityMatrix([[ 1.06498848e-03-8.63804054e-19j,\n",
      "                 0.00000000e+00+0.00000000e+00j,\n",
      "                 2.31342167e-06-1.92718703e-07j, ...,\n",
      "                 0.00000000e+00+0.00000000e+00j,\n",
      "                 4.37801671e-06+4.91313405e-07j,\n",
      "                 0.00000000e+00+0.00000000e+00j],\n",
      "               [ 0.00000000e+00+0.00000000e+00j,\n",
      "                 5.13097261e-04+1.20046507e-19j,\n",
      "                 0.00000000e+00+0.00000000e+00j, ...,\n",
      "                 1.69213272e-05+3.57807018e-06j,\n",
      "                 0.00000000e+00+0.00000000e+00j,\n",
      "                -1.28664056e-07+3.07416464e-06j],\n",
      "               [ 2.31342167e-06+1.92718703e-07j,\n",
      "                 0.00000000e+00+0.00000000e+00j,\n",
      "                 2.60853494e-04+9.27552899e-20j, ...,\n",
      "                 0.00000000e+00+0.00000000e+00j,\n",
      "                 2.08138353e-05+2.24585688e-08j,\n",
      "                 0.00000000e+00+0.00000000e+00j],\n",
      "               ...,\n",
      "               [ 0.00000000e+00+0.00000000e+00j,\n",
      "                 1.69213272e-05-3.57807018e-06j,\n",
      "                 0.00000000e+00+0.00000000e+00j, ...,\n",
      "                 1.68780131e-02+7.02332201e-19j,\n",
      "                 0.00000000e+00+0.00000000e+00j,\n",
      "                 6.22856383e-05-3.55605467e-06j],\n",
      "               [ 4.37801671e-06-4.91313405e-07j,\n",
      "                 0.00000000e+00+0.00000000e+00j,\n",
      "                 2.08138353e-05-2.24585688e-08j, ...,\n",
      "                 0.00000000e+00+0.00000000e+00j,\n",
      "                 6.79704842e-03-1.47386554e-18j,\n",
      "                 0.00000000e+00+0.00000000e+00j],\n",
      "               [ 0.00000000e+00+0.00000000e+00j,\n",
      "                -1.28664056e-07-3.07416464e-06j,\n",
      "                 0.00000000e+00+0.00000000e+00j, ...,\n",
      "                 6.22856383e-05+3.55605467e-06j,\n",
      "                 0.00000000e+00+0.00000000e+00j,\n",
      "                 6.61353016e-01+1.66142667e-17j]],\n",
      "              dims=(2, 2, 2, 2, 2, 2, 2))}\n"
     ]
    }
   ],
   "source": [
    "exact_decomposition_dm, n1 = density_matrix(real_circuit)\n",
    "print(exact_decomposition_dm)"
   ]
  },
  {
   "cell_type": "code",
   "execution_count": 15,
   "id": "e2f2d08f",
   "metadata": {},
   "outputs": [
    {
     "ename": "AttributeError",
     "evalue": "'QuantumCircuit' object has no attribute 'get_density_matrix'",
     "output_type": "error",
     "traceback": [
      "\u001b[1;31m---------------------------------------------------------------------------\u001b[0m",
      "\u001b[1;31mAttributeError\u001b[0m                            Traceback (most recent call last)",
      "Cell \u001b[1;32mIn[15], line 1\u001b[0m\n\u001b[1;32m----> 1\u001b[0m exact_decomposition_dm, n1 \u001b[38;5;241m=\u001b[39m density_matrix(real_circuit)\n\u001b[0;32m      2\u001b[0m t_array \u001b[38;5;241m=\u001b[39m np\u001b[38;5;241m.\u001b[39mzeros(\u001b[38;5;241m2\u001b[39m\u001b[38;5;241m*\u001b[39m\u001b[38;5;241m*\u001b[39mn1)\n\u001b[0;32m      3\u001b[0m t_array[\u001b[38;5;241m-\u001b[39m\u001b[38;5;241m1\u001b[39m] \u001b[38;5;241m=\u001b[39m \u001b[38;5;241m1\u001b[39m\n",
      "Cell \u001b[1;32mIn[14], line 10\u001b[0m, in \u001b[0;36mdensity_matrix\u001b[1;34m(circuit)\u001b[0m\n\u001b[0;32m      8\u001b[0m transpiled_circuit \u001b[38;5;241m=\u001b[39m transpile(circuit, simulator, basis_gates\u001b[38;5;241m=\u001b[39m noise_model\u001b[38;5;241m.\u001b[39mbasis_gates)\n\u001b[0;32m      9\u001b[0m transpiled_circuit\u001b[38;5;241m.\u001b[39msave_density_matrix()\n\u001b[1;32m---> 10\u001b[0m d_m \u001b[38;5;241m=\u001b[39m transpiled_circuit\u001b[38;5;241m.\u001b[39mget_density_matrix()\n\u001b[0;32m     11\u001b[0m \u001b[38;5;28;01mreturn\u001b[39;00m d_m, size\n\u001b[0;32m     13\u001b[0m job \u001b[38;5;241m=\u001b[39m simulator\u001b[38;5;241m.\u001b[39mrun(transpiled_circuit)\n",
      "\u001b[1;31mAttributeError\u001b[0m: 'QuantumCircuit' object has no attribute 'get_density_matrix'"
     ]
    }
   ],
   "source": [
    "\n",
    "t_array = np.zeros(2**n1)\n",
    "t_array[-1] = 1\n",
    "t_state_vector = Statevector(t_array)\n",
    "t_dm = DensityMatrix()\n",
    "approximated_decomposition_dm, n2 = density_matrix(approx_circuit)\n",
    "print(state_fidelity(t_state_vector, exact_decomposition_dm))\n",
    "print(state_fidelity(t_state_vector, approximated_decomposition_dm))"
   ]
  },
  {
   "cell_type": "code",
   "execution_count": 84,
   "id": "1e45d89a7288ca48",
   "metadata": {
    "ExecuteTime": {
     "end_time": "2024-06-12T16:24:00.270309Z",
     "start_time": "2024-06-12T16:24:00.266721Z"
    },
    "collapsed": false
   },
   "outputs": [
    {
     "name": "stdout",
     "output_type": "stream",
     "text": [
      "0.9998373116472037\n",
      "2.5299227111982178e-27\n"
     ]
    }
   ],
   "source": [
    "exact_decomposition_s_vector, n1 = state_vector(real_circuit)\n",
    "t_array = np.zeros(2**n1)\n",
    "t_array[-1] = 1\n",
    "t_state_vector = Statevector(t_array)\n",
    "approximated_decomposition_s_vector, n2 = state_vector(approx_circuit)\n",
    "print(state_fidelity(t_state_vector, exact_decomposition_s_vector))\n",
    "print(state_fidelity(t_state_vector, approximated_decomposition_s_vector))"
   ]
  },
  {
   "cell_type": "markdown",
   "id": "9bb34157",
   "metadata": {},
   "source": [
    "### Noiseless"
   ]
  },
  {
   "cell_type": "code",
   "execution_count": 51,
   "id": "d6538bda3322c1a",
   "metadata": {
    "ExecuteTime": {
     "end_time": "2024-06-12T16:24:00.277486Z",
     "start_time": "2024-06-12T16:24:00.275368Z"
    },
    "collapsed": false
   },
   "outputs": [
    {
     "name": "stdout",
     "output_type": "stream",
     "text": [
      "1.000000000000004\n",
      "0.9975923633361053\n"
     ]
    }
   ],
   "source": [
    "exact_decomposition_s_vector, n1 = state_vector_noiseless(real_circuit)\n",
    "t_array = np.zeros(2**n1)\n",
    "t_array[-1] = 1\n",
    "t_state_vector = Statevector(t_array)\n",
    "approximated_decomposition_s_vector, n2 = state_vector_noiseless(approx_circuit)\n",
    "print(state_fidelity(t_state_vector, exact_decomposition_s_vector))\n",
    "print(state_fidelity(t_state_vector, approximated_decomposition_s_vector))"
   ]
  },
  {
   "cell_type": "code",
   "execution_count": null,
   "id": "1cf64f41",
   "metadata": {},
   "outputs": [],
   "source": []
  }
 ],
 "metadata": {
  "kernelspec": {
   "display_name": "Python 3",
   "language": "python",
   "name": "python3"
  },
  "language_info": {
   "codemirror_mode": {
    "name": "ipython",
    "version": 3
   },
   "file_extension": ".py",
   "mimetype": "text/x-python",
   "name": "python",
   "nbconvert_exporter": "python",
   "pygments_lexer": "ipython3",
   "version": "3.12.3"
  }
 },
 "nbformat": 4,
 "nbformat_minor": 5
}
