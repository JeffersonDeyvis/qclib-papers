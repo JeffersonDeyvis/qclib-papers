{
 "cells": [
  {
   "cell_type": "markdown",
   "id": "37173b324e8500a7",
   "metadata": {
    "collapsed": false
   },
   "source": [
    "### Libraries"
   ]
  },
  {
   "cell_type": "code",
   "execution_count": 1,
   "id": "9523e6a318c717d9",
   "metadata": {
    "collapsed": false,
    "ExecuteTime": {
     "end_time": "2024-06-12T15:17:04.817827Z",
     "start_time": "2024-06-12T15:17:03.907102Z"
    }
   },
   "outputs": [],
   "source": [
    "from typing import Union\n",
    "import numpy as np\n",
    "from qclib.gates.mcu import MCU\n",
    "from qclib.gates.ldmcu import Ldmcu\n",
    "from qiskit import (QuantumCircuit,\n",
    "                    QuantumRegister,\n",
    "                    transpile)\n",
    "from qiskit.providers.fake_provider import GenericBackendV2\n",
    "from qiskit.quantum_info import state_fidelity, Statevector\n",
    "from qiskit_aer import AerSimulator\n",
    "from qiskit_aer.noise import NoiseModel\n",
    "import matplotlib.pyplot as plt"
   ]
  },
  {
   "cell_type": "code",
   "execution_count": 2,
   "id": "4682e7f19fb94c52",
   "metadata": {
    "collapsed": false,
    "ExecuteTime": {
     "end_time": "2024-06-12T15:17:04.822608Z",
     "start_time": "2024-06-12T15:17:04.818832Z"
    }
   },
   "outputs": [],
   "source": [
    "class Utilities:\n",
    "\n",
    "    def __init__(self, operator, error):\n",
    "        self.operator = operator\n",
    "        self.error = error\n",
    "\n",
    "    @staticmethod\n",
    "    def pauli_matrices(string: str) -> Union[np.ndarray, None]:\n",
    "        string_case = string.lower()\n",
    "        match string_case:\n",
    "            case \"x\":\n",
    "                return np.array([\n",
    "                    [0, 1],\n",
    "                    [1, 0]\n",
    "                ])\n",
    "            case \"y\":\n",
    "                return np.array([\n",
    "                    [0, -1j],\n",
    "                    [1j, 0]\n",
    "                ])\n",
    "            case \"z\":\n",
    "                return np.array([\n",
    "                    [1, 0],\n",
    "                    [0, -1]\n",
    "                ])\n",
    "            case _:\n",
    "                return None\n",
    "\n",
    "    @staticmethod\n",
    "    def transpose_conjugate(operator):\n",
    "        return np.conjugate(np.transpose(operator))\n",
    "\n",
    "    @staticmethod\n",
    "    def pyramid_size(operator, error):\n",
    "        mcu_dummy = MCU(operator, num_controls=100, error=error)\n",
    "        # will be changed by mcu_dummy._get_n_base(x_dagger, error)\n",
    "        return mcu_dummy._get_num_base_ctrl_qubits(operator, error)\n"
   ]
  },
  {
   "cell_type": "code",
   "execution_count": 3,
   "id": "9a49dbad83ff304a",
   "metadata": {
    "collapsed": false,
    "ExecuteTime": {
     "end_time": "2024-06-12T15:17:04.826252Z",
     "start_time": "2024-06-12T15:17:04.822608Z"
    }
   },
   "outputs": [],
   "source": [
    "def built_circuit(extra_qubits=0, pauli_string='x', error=0.1, approximated=True):\n",
    "    \n",
    "    pauli_matrix = Utilities.pauli_matrices(pauli_string)\n",
    "    pauli_matrix_dagger = Utilities.transpose_conjugate(pauli_matrix)\n",
    "    n_base = Utilities.pyramid_size(pauli_matrix_dagger, error)\n",
    "\n",
    "    controls = QuantumRegister(n_base + extra_qubits, 'controls')\n",
    "    target = QuantumRegister(1, 'target')\n",
    "    circ = QuantumCircuit(controls, target)\n",
    "    circ.x(list(range(len(controls))))\n",
    "    \n",
    "    if approximated:\n",
    "        MCU.mcu(circ, pauli_matrix_dagger, controls, target, error)\n",
    "    else:\n",
    "        Ldmcu.ldmcu(circ, pauli_matrix_dagger, controls, target)\n",
    "        \n",
    "    # circ.measure_all()\n",
    "    \n",
    "    return circ"
   ]
  },
  {
   "cell_type": "code",
   "outputs": [],
   "source": [
    "n_extra = 0\n",
    "error = 0.1\n",
    "matrix = 'x'"
   ],
   "metadata": {
    "collapsed": false,
    "ExecuteTime": {
     "end_time": "2024-06-12T15:17:04.829108Z",
     "start_time": "2024-06-12T15:17:04.826252Z"
    }
   },
   "id": "b29065e799785418",
   "execution_count": 4
  },
  {
   "cell_type": "code",
   "execution_count": 5,
   "id": "7803f0d6c89dc9d0",
   "metadata": {
    "collapsed": false,
    "ExecuteTime": {
     "end_time": "2024-06-12T15:17:04.871148Z",
     "start_time": "2024-06-12T15:17:04.830111Z"
    }
   },
   "outputs": [
    {
     "name": "stdout",
     "output_type": "stream",
     "text": [
      "            ┌───┐┌──────────────┐\n",
      "controls_0: ┤ X ├┤0             ├\n",
      "            ├───┤│              │\n",
      "controls_1: ┤ X ├┤1             ├\n",
      "            ├───┤│              │\n",
      "controls_2: ┤ X ├┤2             ├\n",
      "            ├───┤│              │\n",
      "controls_3: ┤ X ├┤3 Ldmcuapprox ├\n",
      "            ├───┤│              │\n",
      "controls_4: ┤ X ├┤4             ├\n",
      "            ├───┤│              │\n",
      "controls_5: ┤ X ├┤5             ├\n",
      "            └───┘│              │\n",
      "    target: ─────┤6             ├\n",
      "                 └──────────────┘\n"
     ]
    }
   ],
   "source": [
    "approx_circuit = built_circuit(n_extra, matrix, error)\n",
    "print(approx_circuit)"
   ]
  },
  {
   "cell_type": "code",
   "execution_count": 6,
   "id": "56fa634efffb4822",
   "metadata": {
    "collapsed": false,
    "ExecuteTime": {
     "end_time": "2024-06-12T15:17:04.874438Z",
     "start_time": "2024-06-12T15:17:04.871148Z"
    }
   },
   "outputs": [],
   "source": [
    "real_circuit = built_circuit(n_extra, matrix, error, False)\n",
    "# print(real_circuit)"
   ]
  },
  {
   "cell_type": "code",
   "execution_count": 7,
   "id": "2881dc2862bbb658",
   "metadata": {
    "collapsed": false,
    "ExecuteTime": {
     "end_time": "2024-06-12T15:17:04.877858Z",
     "start_time": "2024-06-12T15:17:04.874438Z"
    }
   },
   "outputs": [],
   "source": [
    "def state_vector(circuit):\n",
    "    \n",
    "    size = len(circuit)\n",
    "    backend = GenericBackendV2(num_qubits=size)\n",
    "    noise_model = NoiseModel.from_backend(backend)\n",
    "    \n",
    "    simulator = AerSimulator(noise_model=noise_model)\n",
    "    transpiled_circuit = transpile(circuit, simulator)\n",
    "    transpiled_circuit.save_statevector()\n",
    "    \n",
    "    job = simulator.run(transpiled_circuit)\n",
    "    result = job.result()\n",
    "    sv = result.get_statevector()\n",
    "    # result = job.result().get_counts(0)\n",
    "    # d_m = DensityMatrix(transpiled_circuit)\n",
    "    return sv, size"
   ]
  },
  {
   "cell_type": "code",
   "execution_count": 8,
   "id": "1199874cd0076480",
   "metadata": {
    "collapsed": false,
    "ExecuteTime": {
     "end_time": "2024-06-12T15:17:05.248402Z",
     "start_time": "2024-06-12T15:17:04.877858Z"
    }
   },
   "outputs": [],
   "source": [
    "rc_vector, n1 = state_vector(real_circuit)"
   ]
  },
  {
   "cell_type": "code",
   "outputs": [],
   "source": [
    "t_array = np.zeros(2**n1)\n",
    "t_array[-1] = 1\n",
    "t_state_vector = Statevector(t_array)"
   ],
   "metadata": {
    "collapsed": false,
    "ExecuteTime": {
     "end_time": "2024-06-12T15:17:05.251767Z",
     "start_time": "2024-06-12T15:17:05.249403Z"
    }
   },
   "id": "3bbc70f8abf32745",
   "execution_count": 9
  },
  {
   "cell_type": "code",
   "execution_count": 10,
   "id": "37b6f0c41b7f9b19",
   "metadata": {
    "collapsed": false,
    "ExecuteTime": {
     "end_time": "2024-06-12T15:17:05.653287Z",
     "start_time": "2024-06-12T15:17:05.251767Z"
    }
   },
   "outputs": [],
   "source": [
    "ac_vector, n2 = state_vector(approx_circuit)"
   ]
  },
  {
   "cell_type": "markdown",
   "id": "376d4b6451c4bc74",
   "metadata": {
    "collapsed": false
   },
   "source": [
    "### State Fidelity"
   ]
  },
  {
   "cell_type": "code",
   "execution_count": 11,
   "id": "1e45d89a7288ca48",
   "metadata": {
    "collapsed": false,
    "ExecuteTime": {
     "end_time": "2024-06-12T15:17:05.660188Z",
     "start_time": "2024-06-12T15:17:05.654288Z"
    }
   },
   "outputs": [
    {
     "data": {
      "text/plain": "0.9995214455068376"
     },
     "execution_count": 11,
     "metadata": {},
     "output_type": "execute_result"
    }
   ],
   "source": [
    "state_fidelity(t_state_vector, rc_vector)"
   ]
  },
  {
   "cell_type": "code",
   "outputs": [
    {
     "data": {
      "text/plain": "0.9973564783459824"
     },
     "execution_count": 12,
     "metadata": {},
     "output_type": "execute_result"
    }
   ],
   "source": [
    "state_fidelity(t_state_vector, ac_vector)"
   ],
   "metadata": {
    "collapsed": false,
    "ExecuteTime": {
     "end_time": "2024-06-12T15:17:05.664327Z",
     "start_time": "2024-06-12T15:17:05.661190Z"
    }
   },
   "id": "16aed8d48257365c",
   "execution_count": 12
  },
  {
   "cell_type": "code",
   "outputs": [],
   "source": [],
   "metadata": {
    "collapsed": false,
    "ExecuteTime": {
     "end_time": "2024-06-12T15:17:05.666668Z",
     "start_time": "2024-06-12T15:17:05.664327Z"
    }
   },
   "id": "d6538bda3322c1a",
   "execution_count": 12
  }
 ],
 "metadata": {
  "kernelspec": {
   "display_name": "Python 3",
   "language": "python",
   "name": "python3"
  },
  "language_info": {
   "codemirror_mode": {
    "name": "ipython",
    "version": 3
   },
   "file_extension": ".py",
   "mimetype": "text/x-python",
   "name": "python",
   "nbconvert_exporter": "python",
   "pygments_lexer": "ipython3",
   "version": "3.11.9"
  }
 },
 "nbformat": 4,
 "nbformat_minor": 5
}
