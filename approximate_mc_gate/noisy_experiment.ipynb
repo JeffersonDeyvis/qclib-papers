{
 "cells": [
  {
   "cell_type": "markdown",
   "id": "37173b324e8500a7",
   "metadata": {
    "collapsed": false
   },
   "source": [
    "### Libraries"
   ]
  },
  {
   "cell_type": "code",
   "execution_count": 1,
   "id": "9523e6a318c717d9",
   "metadata": {
    "ExecuteTime": {
     "end_time": "2024-06-19T01:59:35.608533Z",
     "start_time": "2024-06-19T01:59:33.422333Z"
    },
    "collapsed": false
   },
   "outputs": [],
   "source": [
    "from typing import Union\n",
    "import numpy as np\n",
    "from qclib.gates.mcu import MCU\n",
    "from qclib.gates.ldmcu import Ldmcu\n",
    "from qiskit import (QuantumCircuit,\n",
    "                    QuantumRegister,\n",
    "                    transpile)\n",
    "from qiskit.providers.fake_provider import GenericBackendV2\n",
    "from qiskit.quantum_info import state_fidelity, Statevector, DensityMatrix, Operator\n",
    "from qiskit_aer import AerSimulator\n",
    "from qiskit_aer.noise import (NoiseModel, QuantumError, ReadoutError,\n",
    "    pauli_error, depolarizing_error, thermal_relaxation_error)\n",
    "import matplotlib.pyplot as plt"
   ]
  },
  {
   "cell_type": "code",
   "execution_count": 2,
   "id": "4682e7f19fb94c52",
   "metadata": {
    "ExecuteTime": {
     "end_time": "2024-06-19T02:10:42.456351Z",
     "start_time": "2024-06-19T02:10:42.453150Z"
    },
    "collapsed": false
   },
   "outputs": [],
   "source": [
    "class Utilities:\n",
    "\n",
    "    def __init__(self, operator, error):\n",
    "        self.operator = operator\n",
    "        self.error = error\n",
    "\n",
    "    @staticmethod\n",
    "    def transpose_conjugate(operator):\n",
    "        \"\"\"Returns a transposed conjugate matrix of the operator\"\"\"\n",
    "        return np.conjugate(np.transpose(operator))\n",
    "\n",
    "    @staticmethod\n",
    "    def pyramid_size(operator, error):\n",
    "        \"\"\"Returns the base control size of the pyramid\"\"\"\n",
    "        mcu_dummy = MCU(operator, num_controls=100, error=error)\n",
    "        return mcu_dummy._get_num_base_ctrl_qubits(operator, error)\n"
   ]
  },
  {
   "cell_type": "code",
   "execution_count": 27,
   "id": "9d5aa344",
   "metadata": {},
   "outputs": [],
   "source": [
    "def build_circuit_experiment(extra_qubits=0 , error=0.1, approximated=True, op_matrix=None):\n",
    "    if(op_matrix==None):\n",
    "        op_matrix = Operator.from_label('X').data\n",
    "    n_base = Utilities.pyramid_size(op_matrix, error)\n",
    "    print(\"N Base \", n_base)\n",
    "    controls = QuantumRegister(n_base + extra_qubits, 'controls')\n",
    "    target = QuantumRegister(1, 'target')\n",
    "    circ = QuantumCircuit(controls, target)\n",
    "    circ.x(controls)\n",
    "\n",
    "    circ.unitary(op_matrix, target)\n",
    "    if approximated:\n",
    "        MCU.mcu(circ, Utilities.transpose_conjugate(op_matrix), controls, target, error)\n",
    "    else:\n",
    "        Ldmcu.ldmcu(circ, Utilities.transpose_conjugate(op_matrix), controls, target)\n",
    "    circ.measure_all()\n",
    "    return circ\n"
   ]
  },
  {
   "cell_type": "code",
   "execution_count": 4,
   "id": "d71d40f6a41a99f8",
   "metadata": {
    "ExecuteTime": {
     "end_time": "2024-06-19T02:10:43.863963Z",
     "start_time": "2024-06-19T02:10:43.860119Z"
    },
    "collapsed": false
   },
   "outputs": [
    {
     "name": "stdout",
     "output_type": "stream",
     "text": [
      "               ┌───┐   ┌──────────────┐ ░ ┌─┐                  \n",
      "controls_0: ───┤ X ├───┤0             ├─░─┤M├──────────────────\n",
      "               ├───┤   │              │ ░ └╥┘┌─┐               \n",
      "controls_1: ───┤ X ├───┤1             ├─░──╫─┤M├───────────────\n",
      "               ├───┤   │              │ ░  ║ └╥┘┌─┐            \n",
      "controls_2: ───┤ X ├───┤2             ├─░──╫──╫─┤M├────────────\n",
      "               ├───┤   │              │ ░  ║  ║ └╥┘┌─┐         \n",
      "controls_3: ───┤ X ├───┤3 Ldmcuapprox ├─░──╫──╫──╫─┤M├─────────\n",
      "               ├───┤   │              │ ░  ║  ║  ║ └╥┘┌─┐      \n",
      "controls_4: ───┤ X ├───┤4             ├─░──╫──╫──╫──╫─┤M├──────\n",
      "               ├───┤   │              │ ░  ║  ║  ║  ║ └╥┘┌─┐   \n",
      "controls_5: ───┤ X ├───┤5             ├─░──╫──╫──╫──╫──╫─┤M├───\n",
      "            ┌──┴───┴──┐│              │ ░  ║  ║  ║  ║  ║ └╥┘┌─┐\n",
      "    target: ┤ Unitary ├┤6             ├─░──╫──╫──╫──╫──╫──╫─┤M├\n",
      "            └─────────┘└──────────────┘ ░  ║  ║  ║  ║  ║  ║ └╥┘\n",
      "    meas: 7/═══════════════════════════════╩══╩══╩══╩══╩══╩══╩═\n",
      "                                           0  1  2  3  4  5  6 \n"
     ]
    }
   ],
   "source": [
    "print(build_circuit_experiment(approximated=True))"
   ]
  },
  {
   "cell_type": "code",
   "execution_count": 5,
   "id": "116a11a6",
   "metadata": {},
   "outputs": [
    {
     "data": {
      "text/plain": [
       "7"
      ]
     },
     "execution_count": 5,
     "metadata": {},
     "output_type": "execute_result"
    }
   ],
   "source": [
    "len(build_circuit_experiment(approximated=True).qubits)"
   ]
  },
  {
   "cell_type": "code",
   "execution_count": 5,
   "id": "28279cef",
   "metadata": {},
   "outputs": [],
   "source": [
    "def create_noise_model():\n",
    "    #noise_model = NoiseModel.from_backend(backend)\n",
    "    # Create an empty noise model\n",
    "    noise_model = NoiseModel()\n",
    "\n",
    "    # Add depolarizing error to all single qubit u1, u2, u3 gates\n",
    "    error_1qubit = depolarizing_error(0.0001, 1)\n",
    "    error_2qubit = depolarizing_error(0.001, 2)\n",
    "    noise_model.add_all_qubit_quantum_error(error_1qubit, ['u1', 'u2', 'u3'])\n",
    "    noise_model.add_all_qubit_quantum_error(error_2qubit, ['cx'])\n",
    "    # Measurement miss-assignement probabilities (No Effect)\n",
    "    #p0given1 = 0.5\n",
    "    #p1given0 = 0.5\n",
    "    #readout = ReadoutError([[1 - p1given0, p1given0], [p0given1, 1 - p0given1]])\n",
    "    #noise_model.add_all_qubit_readout_error(readout)\n",
    "    return noise_model\n",
    "\n",
    "def get_fake_backend():\n",
    "    from qiskit.providers.fake_provider import Fake27QPulseV1\n",
    "    from qiskit_aer.noise import NoiseModel\n",
    "    backend = Fake27QPulseV1()\n",
    "    noise_model = NoiseModel.from_backend(backend)\n",
    "    return noise_model\n",
    "\n"
   ]
  },
  {
   "cell_type": "code",
   "execution_count": 20,
   "id": "e0af82c2",
   "metadata": {},
   "outputs": [],
   "source": [
    "def density_matrix(circuit, fake_backend=False):\n",
    "    \n",
    "    if(fake_backend==False): \n",
    "        noise_model = create_noise_model()\n",
    "    else:\n",
    "        noise_model = get_fake_backend()\n",
    "    simulator = AerSimulator(noise_model=noise_model, method='density_matrix')\n",
    "    transpiled_circuit = transpile(circuit, simulator, basis_gates= noise_model.basis_gates)\n",
    "    transpiled_circuit.save_density_matrix()\n",
    "    \n",
    "    job = simulator.run(transpiled_circuit)\n",
    "    result = job.result()\n",
    "    d_m = result.data(0)\n",
    "    \n",
    "    return d_m\n",
    "\n",
    "def experiment_counts(circuit, fake_backend=False, shots=1024):\n",
    "    \n",
    "    if(fake_backend==False): \n",
    "        noise_model = create_noise_model()\n",
    "    else:\n",
    "        noise_model = get_fake_backend()\n",
    "    simulator = AerSimulator(noise_model=noise_model)\n",
    "    transpiled_circuit = transpile(circuit, simulator, basis_gates= noise_model.basis_gates)\n",
    "    transpiled_circuit.save_density_matrix()\n",
    "    \n",
    "    job = simulator.run(transpiled_circuit, shots = shots)\n",
    "    result = job.result()\n",
    "    counts = result.get_counts(0)\n",
    "    \n",
    "    return counts"
   ]
  },
  {
   "cell_type": "code",
   "execution_count": 21,
   "id": "817cd0c1",
   "metadata": {},
   "outputs": [],
   "source": [
    "def run_experiment(error=0.1, n_extra=1, rounds=10, op_matrix=None, IBM_washington = True, shots=1024):\n",
    "\n",
    "    approx_counts = np.zeros(rounds)\n",
    "    exact_counts = np.zeros(rounds)\n",
    "\n",
    "    print(\"Error \", error)\n",
    "    print(\"N_extra \", n_extra)\n",
    "\n",
    "    for i in range(rounds):\n",
    "        approx_circuit = build_circuit_experiment(n_extra, error)\n",
    "        real_circuit = build_circuit_experiment(n_extra, error, False)\n",
    "        correct_bit='0'\n",
    "        for _ in range(len(approx_circuit.qubits)-1):\n",
    "            correct_bit+='1'\n",
    "        approx_counts[i] = experiment_counts(approx_circuit, fake_backend=IBM_washington, shots=1024)[correct_bit]/1024\n",
    "        exact_counts[i] = experiment_counts(real_circuit, fake_backend=IBM_washington, shots=1024)[correct_bit]/1024\n",
    "        #total_approx = sum(dict(approx_counts).values())\n",
    "        #print(total_approx)\n",
    "        #print(sum(dict(exact_counts).values()))\n",
    "        \n",
    "        \n",
    "    print(\"Exact \", exact_counts)\n",
    "    print(\"Mean \", exact_counts.mean(), \"std \", exact_counts.std())\n",
    "    print(\"Approx \", approx_counts)\n",
    "    print(\"Mean \", approx_counts.mean(), \"std \", approx_counts.std())\n",
    "\n"
   ]
  },
  {
   "cell_type": "markdown",
   "id": "376d4b6451c4bc74",
   "metadata": {
    "collapsed": false
   },
   "source": [
    "### Experimentos simulando IBM Washington"
   ]
  },
  {
   "cell_type": "code",
   "execution_count": 27,
   "id": "802e0682",
   "metadata": {},
   "outputs": [
    {
     "name": "stdout",
     "output_type": "stream",
     "text": [
      "Error  0.1\n",
      "N_extra  1\n",
      "Exact  [0.65625    0.69824219 0.71972656 0.671875   0.67480469 0.67675781\n",
      " 0.6796875  0.68945312 0.68554688 0.68066406 0.67578125 0.67089844\n",
      " 0.71386719 0.6640625  0.69726562 0.68847656 0.68457031 0.68847656\n",
      " 0.68554688 0.68164062 0.68359375 0.68066406 0.67089844 0.69824219\n",
      " 0.67578125 0.66699219 0.69628906 0.67578125 0.69238281 0.68847656]\n",
      "Mean  0.6837565104166666 std  0.01341386791915836\n",
      "Approx  [0.74902344 0.72363281 0.72265625 0.71972656 0.74804688 0.734375\n",
      " 0.71972656 0.7421875  0.69921875 0.73046875 0.69238281 0.69238281\n",
      " 0.72753906 0.71484375 0.73730469 0.73925781 0.7265625  0.72558594\n",
      " 0.74316406 0.69335938 0.72460938 0.71582031 0.74902344 0.73144531\n",
      " 0.73144531 0.7421875  0.68554688 0.70996094 0.73046875 0.7109375 ]\n",
      "Mean  0.7237630208333333 std  0.01749243678796113\n"
     ]
    }
   ],
   "source": [
    "run_experiment(rounds=30)"
   ]
  },
  {
   "cell_type": "code",
   "execution_count": 22,
   "id": "52ae0ea9",
   "metadata": {},
   "outputs": [
    {
     "name": "stdout",
     "output_type": "stream",
     "text": [
      "Error  0.1\n",
      "N_extra  1\n",
      "Exact  [0.70410156 0.69433594 0.68847656 0.68164062 0.68359375 0.67578125\n",
      " 0.66210938 0.69140625 0.70117188 0.70898438]\n",
      "Mean  0.68916015625 std  0.013383182482663002\n",
      "Approx  [0.75       0.69921875 0.72949219 0.74121094 0.70703125 0.71484375\n",
      " 0.703125   0.72558594 0.72070312 0.73242188]\n",
      "Mean  0.72236328125 std  0.01575295508379524\n"
     ]
    }
   ],
   "source": [
    "run_experiment(rounds=10, shots=8.192)"
   ]
  },
  {
   "cell_type": "code",
   "execution_count": 29,
   "id": "35f5b436",
   "metadata": {},
   "outputs": [
    {
     "name": "stdout",
     "output_type": "stream",
     "text": [
      "Error  0.1\n",
      "N_extra  2\n",
      "Exact  [0.59277344 0.59570312 0.54882812 0.59375    0.609375   0.59960938\n",
      " 0.59375    0.61328125 0.58886719 0.5859375  0.59863281 0.6015625\n",
      " 0.58398438 0.59472656 0.58300781 0.58203125 0.58203125 0.60644531\n",
      " 0.56835938 0.61328125 0.59960938 0.59960938 0.59667969 0.58984375\n",
      " 0.58007812 0.58886719 0.60058594 0.57324219 0.58300781 0.60839844]\n",
      "Mean  0.5918619791666667 std  0.013564340242935829\n",
      "Approx  [0.62988281 0.61621094 0.6171875  0.625      0.60058594 0.61816406\n",
      " 0.61425781 0.63867188 0.61523438 0.63769531 0.60546875 0.62890625\n",
      " 0.61230469 0.609375   0.62207031 0.62304688 0.63085938 0.62988281\n",
      " 0.59765625 0.61328125 0.60351562 0.64257812 0.61816406 0.62109375\n",
      " 0.61621094 0.6015625  0.62597656 0.62011719 0.60351562 0.62695312]\n",
      "Mean  0.61884765625 std  0.011453014642132598\n"
     ]
    }
   ],
   "source": [
    "run_experiment(rounds=30, n_extra=2)"
   ]
  },
  {
   "cell_type": "code",
   "execution_count": 31,
   "id": "e6df543d",
   "metadata": {},
   "outputs": [
    {
     "name": "stdout",
     "output_type": "stream",
     "text": [
      "Error  0.1\n",
      "N_extra  3\n",
      "Exact  [0.55371094 0.53222656 0.51367188 0.55566406 0.54199219 0.56347656\n",
      " 0.52539062 0.54394531 0.54785156 0.50683594]\n",
      "Mean  0.5384765625 std  0.017633376707854163\n",
      "Approx  [0.55371094 0.56933594 0.52539062 0.56640625 0.56347656 0.56542969\n",
      " 0.53613281 0.53515625 0.5546875  0.56542969]\n",
      "Mean  0.553515625 std  0.014937256878905385\n"
     ]
    }
   ],
   "source": [
    "run_experiment(rounds=10, n_extra=3)"
   ]
  },
  {
   "cell_type": "code",
   "execution_count": 28,
   "id": "c4e78221",
   "metadata": {},
   "outputs": [
    {
     "name": "stdout",
     "output_type": "stream",
     "text": [
      "Error  0.2\n",
      "N_extra  1\n",
      "Exact  [0.72167969 0.72070312 0.72558594 0.71289062 0.70605469 0.69335938\n",
      " 0.71679688 0.73632812 0.72460938 0.71191406 0.70898438 0.72558594\n",
      " 0.71972656 0.7265625  0.70703125 0.70703125 0.70214844 0.70703125\n",
      " 0.71386719 0.71777344 0.73144531 0.71972656 0.67773438 0.70214844\n",
      " 0.71875    0.71484375 0.70898438 0.71679688 0.70117188 0.71679688]\n",
      "Mean  0.7138020833333333 std  0.011579394212747117\n",
      "Approx  [0.74511719 0.73730469 0.7578125  0.73046875 0.75683594 0.78125\n",
      " 0.76757812 0.73144531 0.7578125  0.74609375 0.74023438 0.75683594\n",
      " 0.73632812 0.76074219 0.75       0.76367188 0.75       0.74804688\n",
      " 0.76757812 0.77636719 0.74609375 0.76367188 0.765625   0.75195312\n",
      " 0.765625   0.74023438 0.7734375  0.75585938 0.77246094 0.73535156]\n",
      "Mean  0.75439453125 std  0.013580306263889215\n"
     ]
    }
   ],
   "source": [
    "run_experiment(rounds=30, error=0.2)"
   ]
  },
  {
   "cell_type": "code",
   "execution_count": 30,
   "id": "676ae527",
   "metadata": {},
   "outputs": [
    {
     "name": "stdout",
     "output_type": "stream",
     "text": [
      "Error  0.2\n",
      "N_extra  2\n",
      "Exact  [0.69238281 0.70605469 0.7109375  0.69824219 0.69433594 0.69824219\n",
      " 0.69238281 0.70214844 0.69042969 0.69726562 0.67675781 0.65917969\n",
      " 0.68261719 0.66210938 0.67871094 0.68652344 0.67773438 0.67578125\n",
      " 0.68164062 0.68457031 0.69433594 0.70703125 0.6796875  0.68359375\n",
      " 0.65722656 0.67871094 0.6640625  0.6875     0.68847656 0.703125  ]\n",
      "Mean  0.6863932291666667 std  0.013823869892245913\n",
      "Approx  [0.73632812 0.73925781 0.74316406 0.7421875  0.74804688 0.76074219\n",
      " 0.76855469 0.73828125 0.74902344 0.77246094 0.75976562 0.76660156\n",
      " 0.74414062 0.74804688 0.74609375 0.76367188 0.70703125 0.74707031\n",
      " 0.76367188 0.73925781 0.76464844 0.74316406 0.76074219 0.77441406\n",
      " 0.75488281 0.75585938 0.73339844 0.73144531 0.72167969 0.72753906]\n",
      "Mean  0.7483723958333334 std  0.01545178511703264\n"
     ]
    }
   ],
   "source": [
    "run_experiment(rounds=30, error=0.2, n_extra=2)"
   ]
  },
  {
   "cell_type": "markdown",
   "id": "ae60efeb",
   "metadata": {},
   "source": [
    "Peguei esses dados abaixo"
   ]
  },
  {
   "cell_type": "code",
   "execution_count": 23,
   "id": "f722be7f",
   "metadata": {},
   "outputs": [
    {
     "name": "stdout",
     "output_type": "stream",
     "text": [
      "Error  0.1\n",
      "N_extra  1\n",
      "Exact  [0.66796875 0.66699219 0.69921875 0.6875     0.69433594 0.69824219\n",
      " 0.67480469 0.70214844 0.70214844 0.68652344 0.66992188 0.69335938\n",
      " 0.67382812 0.703125   0.68066406 0.69433594 0.6640625  0.71191406\n",
      " 0.67382812 0.70703125 0.69628906 0.69140625 0.67089844 0.70898438\n",
      " 0.71875    0.67285156 0.66308594 0.68164062 0.6953125  0.68457031\n",
      " 0.69140625 0.671875   0.67480469 0.68261719 0.69042969 0.70117188\n",
      " 0.67382812 0.68652344 0.70410156 0.67578125 0.70117188 0.70410156\n",
      " 0.66503906 0.66699219 0.68457031 0.70019531 0.71191406 0.66992188\n",
      " 0.68359375 0.68164062]\n",
      "Mean  0.6871484375 std  0.014657236940384176\n",
      "Approx  [0.74609375 0.74511719 0.74902344 0.75292969 0.734375   0.74121094\n",
      " 0.72460938 0.73925781 0.72363281 0.75878906 0.71972656 0.73632812\n",
      " 0.74023438 0.74511719 0.70898438 0.71191406 0.71972656 0.73730469\n",
      " 0.72753906 0.74316406 0.72167969 0.71875    0.72167969 0.69824219\n",
      " 0.75097656 0.71875    0.73144531 0.74414062 0.75195312 0.72265625\n",
      " 0.71679688 0.76074219 0.72167969 0.69335938 0.73144531 0.70898438\n",
      " 0.72558594 0.73730469 0.73144531 0.72558594 0.71386719 0.74511719\n",
      " 0.72070312 0.72753906 0.72949219 0.73144531 0.73730469 0.74804688\n",
      " 0.71386719 0.73535156]\n",
      "Mean  0.7308203125 std  0.014802265220703974\n"
     ]
    }
   ],
   "source": [
    "run_experiment(rounds=50, op_matrix=Operator.from_label('Y').data, shots=8192)"
   ]
  },
  {
   "cell_type": "code",
   "execution_count": 26,
   "id": "5fb9ffde",
   "metadata": {},
   "outputs": [
    {
     "data": {
      "text/plain": [
       "6"
      ]
     },
     "execution_count": 26,
     "metadata": {},
     "output_type": "execute_result"
    }
   ],
   "source": [
    "Utilities.pyramid_size(operator=Operator.from_label('Y').data, error = 0.1)"
   ]
  },
  {
   "cell_type": "code",
   "execution_count": 28,
   "id": "98763133",
   "metadata": {},
   "outputs": [
    {
     "name": "stdout",
     "output_type": "stream",
     "text": [
      "Error  0.1\n",
      "N_extra  1\n",
      "N Base  6\n",
      "N Base  6\n",
      "Exact  [0.66601562]\n",
      "Mean  0.666015625 std  0.0\n",
      "Approx  [0.734375]\n",
      "Mean  0.734375 std  0.0\n"
     ]
    }
   ],
   "source": [
    "run_experiment(rounds=1, op_matrix=Operator.from_label('Y').data)"
   ]
  },
  {
   "cell_type": "code",
   "execution_count": 9,
   "id": "8374c3f1",
   "metadata": {},
   "outputs": [
    {
     "name": "stdout",
     "output_type": "stream",
     "text": [
      "Error  0.1\n",
      "N_extra  1\n",
      "Exact  [0.69335938 0.68652344 0.65917969 0.6953125  0.66796875 0.66601562\n",
      " 0.70605469 0.71484375 0.70117188 0.71679688 0.68945312 0.69824219\n",
      " 0.66308594 0.68359375 0.71582031 0.7109375  0.66699219 0.67285156\n",
      " 0.70019531 0.69433594 0.69238281 0.6640625  0.66503906 0.67773438\n",
      " 0.69433594 0.703125   0.69628906 0.69628906 0.65625    0.68945312]\n",
      "Mean  0.6879231770833333 std  0.017698307565163267\n",
      "Approx  [0.75683594 0.71289062 0.72949219 0.7421875  0.71484375 0.73242188\n",
      " 0.73339844 0.734375   0.75488281 0.70117188 0.71777344 0.74023438\n",
      " 0.74023438 0.734375   0.7265625  0.72070312 0.73242188 0.73242188\n",
      " 0.73632812 0.72558594 0.75097656 0.74804688 0.72851562 0.73144531\n",
      " 0.73632812 0.7265625  0.71386719 0.71191406 0.73242188 0.69433594]\n",
      "Mean  0.72978515625 std  0.014272854330074945\n"
     ]
    }
   ],
   "source": [
    "run_experiment(rounds=30, op_matrix=Operator.from_label('S').data)"
   ]
  },
  {
   "cell_type": "markdown",
   "id": "d6b36f9d",
   "metadata": {},
   "source": [
    "Experimento antigo para comparação"
   ]
  },
  {
   "cell_type": "code",
   "execution_count": 45,
   "id": "cb33b3f7",
   "metadata": {},
   "outputs": [
    {
     "name": "stdout",
     "output_type": "stream",
     "text": [
      "Error  0.1\n",
      "N_extra  0\n",
      "Approx acc  0.703125\n",
      "Exact acc  0.7158203125\n",
      "N_extra  1\n",
      "Approx acc  0.7451171875\n",
      "Exact acc  0.6845703125\n",
      "N_extra  2\n",
      "Approx acc  0.6533203125\n",
      "Exact acc  0.5771484375\n",
      "N_extra  3\n",
      "Approx acc  0.55078125\n",
      "Exact acc  0.5166015625\n"
     ]
    }
   ],
   "source": [
    "n_extra = [1]\n",
    "M = 10\n",
    "fidelity_exact = np.zeros(M)\n",
    "fidelity_approx = np.zeros(M)\n",
    "\n",
    "error = 0.1\n",
    "matrix = 'x'\n",
    "fake_backend =  True\n",
    "\n",
    "print(\"Error \", error)\n",
    "for i in range(len(n_extra)):\n",
    "    ne = n_extra[i]\n",
    "    print(\"N_extra \", ne)\n",
    "    approx_circuit = build_circuit_experiment(ne, error)\n",
    "    real_circuit = build_circuit_experiment(ne, error, False)\n",
    "    approx_counts = experiment_counts(approx_circuit, fake_backend=True)\n",
    "    exact_counts = experiment_counts(real_circuit, fake_backend=True)\n",
    "    #total_approx = sum(dict(approx_counts).values())\n",
    "    #print(total_approx)\n",
    "    #print(sum(dict(exact_counts).values()))\n",
    "    s='0'\n",
    "    for a in range(len(approx_circuit.qubits)-1):\n",
    "        s+='1'\n",
    "    \n",
    "    print(\"Approx acc \", approx_counts[s]/1024)\n",
    "    print(\"Exact acc \", exact_counts[s]/1024)\n",
    "\n"
   ]
  }
 ],
 "metadata": {
  "kernelspec": {
   "display_name": "Python 3",
   "language": "python",
   "name": "python3"
  },
  "language_info": {
   "codemirror_mode": {
    "name": "ipython",
    "version": 3
   },
   "file_extension": ".py",
   "mimetype": "text/x-python",
   "name": "python",
   "nbconvert_exporter": "python",
   "pygments_lexer": "ipython3",
   "version": "3.12.3"
  }
 },
 "nbformat": 4,
 "nbformat_minor": 5
}
