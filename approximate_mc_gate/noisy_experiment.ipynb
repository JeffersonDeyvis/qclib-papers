{
 "cells": [
  {
   "cell_type": "markdown",
   "source": [
    "### Libraries"
   ],
   "metadata": {
    "collapsed": false
   },
   "id": "37173b324e8500a7"
  },
  {
   "cell_type": "code",
   "outputs": [],
   "source": [
    "from typing import Union\n",
    "import numpy as np\n",
    "from qclib.gates.mcu import MCU\n",
    "from qclib.gates.ldmcu import Ldmcu\n",
    "from qiskit import (QuantumCircuit,\n",
    "                    QuantumRegister,\n",
    "                    transpile)\n",
    "from qiskit.providers.fake_provider import GenericBackendV2\n",
    "# from joblib import Parallel, delayed\n",
    "import matplotlib.pyplot as plt"
   ],
   "metadata": {
    "collapsed": false,
    "ExecuteTime": {
     "end_time": "2024-05-27T14:19:31.310616Z",
     "start_time": "2024-05-27T14:19:29.412272Z"
    }
   },
   "id": "9523e6a318c717d9",
   "execution_count": 1
  },
  {
   "cell_type": "code",
   "outputs": [],
   "source": [
    "class Utilities:\n",
    "\n",
    "    def __init__(self, operator, error):\n",
    "        self.operator = operator\n",
    "        self.error = error\n",
    "\n",
    "    @staticmethod\n",
    "    def pauli_matrices(string: str) -> Union[np.ndarray, None]:\n",
    "        string_case = string.lower()\n",
    "        match string_case:\n",
    "            case \"x\":\n",
    "                return np.array([\n",
    "                    [0, 1],\n",
    "                    [1, 0]\n",
    "                ])\n",
    "            case \"y\":\n",
    "                return np.array([\n",
    "                    [0, -1j],\n",
    "                    [1j, 0]\n",
    "                ])\n",
    "            case \"z\":\n",
    "                return np.array([\n",
    "                    [1, 0],\n",
    "                    [0, -1]\n",
    "                ])\n",
    "            case _:\n",
    "                return None\n",
    "\n",
    "    @staticmethod\n",
    "    def transpose_conjugate(operator):\n",
    "        return np.conjugate(np.transpose(operator))\n",
    "\n",
    "    @staticmethod\n",
    "    def pyramid_size(operator, error):\n",
    "        mcu_dummy = MCU(operator, num_controls=100, error=error)\n",
    "        # will be changed by mcu_dummy._get_n_base(x_dagger, error)\n",
    "        return mcu_dummy._get_num_base_ctrl_qubits(operator, error)\n"
   ],
   "metadata": {
    "collapsed": false,
    "ExecuteTime": {
     "end_time": "2024-05-27T14:19:31.315391Z",
     "start_time": "2024-05-27T14:19:31.311625Z"
    }
   },
   "id": "4682e7f19fb94c52",
   "execution_count": 2
  },
  {
   "cell_type": "code",
   "outputs": [],
   "source": [
    "def built_circuit(pauli_string='x', error=0.1, approximated = True):\n",
    "    \n",
    "    pauli_matrix = Utilities.pauli_matrices(pauli_string)\n",
    "    pauli_matrix_dagger = Utilities.transpose_conjugate(pauli_matrix)\n",
    "    n_base = Utilities.pyramid_size(pauli_matrix_dagger, error)\n",
    "\n",
    "    controls = QuantumRegister(n_base, 'controls')\n",
    "    target = QuantumRegister(1, 'target')\n",
    "    circ = QuantumCircuit(controls, target)\n",
    "    circ.x(list(range(len(controls)+1)))\n",
    "    \n",
    "    if approximated:\n",
    "        MCU.mcu(circ, pauli_matrix_dagger, controls, target, error)\n",
    "    else:\n",
    "        Ldmcu.ldmcu(circ, pauli_matrix_dagger, controls, target)\n",
    "        \n",
    "    circ.measure_all()\n",
    "    \n",
    "    return circ"
   ],
   "metadata": {
    "collapsed": false,
    "ExecuteTime": {
     "end_time": "2024-05-27T14:19:31.319107Z",
     "start_time": "2024-05-27T14:19:31.315391Z"
    }
   },
   "id": "9a49dbad83ff304a",
   "execution_count": 3
  },
  {
   "cell_type": "code",
   "outputs": [
    {
     "name": "stdout",
     "output_type": "stream",
     "text": [
      "            ┌───┐┌──────────────┐ ░ ┌─┐                  \n",
      "controls_0: ┤ X ├┤0             ├─░─┤M├──────────────────\n",
      "            ├───┤│              │ ░ └╥┘┌─┐               \n",
      "controls_1: ┤ X ├┤1             ├─░──╫─┤M├───────────────\n",
      "            ├───┤│              │ ░  ║ └╥┘┌─┐            \n",
      "controls_2: ┤ X ├┤2             ├─░──╫──╫─┤M├────────────\n",
      "            ├───┤│              │ ░  ║  ║ └╥┘┌─┐         \n",
      "controls_3: ┤ X ├┤3 Ldmcuapprox ├─░──╫──╫──╫─┤M├─────────\n",
      "            ├───┤│              │ ░  ║  ║  ║ └╥┘┌─┐      \n",
      "controls_4: ┤ X ├┤4             ├─░──╫──╫──╫──╫─┤M├──────\n",
      "            ├───┤│              │ ░  ║  ║  ║  ║ └╥┘┌─┐   \n",
      "controls_5: ┤ X ├┤5             ├─░──╫──╫──╫──╫──╫─┤M├───\n",
      "            ├───┤│              │ ░  ║  ║  ║  ║  ║ └╥┘┌─┐\n",
      "    target: ┤ X ├┤6             ├─░──╫──╫──╫──╫──╫──╫─┤M├\n",
      "            └───┘└──────────────┘ ░  ║  ║  ║  ║  ║  ║ └╥┘\n",
      "    meas: 7/═════════════════════════╩══╩══╩══╩══╩══╩══╩═\n",
      "                                     0  1  2  3  4  5  6 \n"
     ]
    }
   ],
   "source": [
    "approx_circuit = built_circuit('x', 0.1)\n",
    "print(approx_circuit)"
   ],
   "metadata": {
    "collapsed": false,
    "ExecuteTime": {
     "end_time": "2024-05-27T14:19:31.380159Z",
     "start_time": "2024-05-27T14:19:31.319107Z"
    }
   },
   "id": "7803f0d6c89dc9d0",
   "execution_count": 4
  },
  {
   "cell_type": "code",
   "outputs": [
    {
     "name": "stdout",
     "output_type": "stream",
     "text": [
      "            ┌───┐┌────────┐ ░ ┌─┐                  \n",
      "controls_0: ┤ X ├┤0       ├─░─┤M├──────────────────\n",
      "            ├───┤│        │ ░ └╥┘┌─┐               \n",
      "controls_1: ┤ X ├┤1       ├─░──╫─┤M├───────────────\n",
      "            ├───┤│        │ ░  ║ └╥┘┌─┐            \n",
      "controls_2: ┤ X ├┤2       ├─░──╫──╫─┤M├────────────\n",
      "            ├───┤│        │ ░  ║  ║ └╥┘┌─┐         \n",
      "controls_3: ┤ X ├┤3 Ldmcu ├─░──╫──╫──╫─┤M├─────────\n",
      "            ├───┤│        │ ░  ║  ║  ║ └╥┘┌─┐      \n",
      "controls_4: ┤ X ├┤4       ├─░──╫──╫──╫──╫─┤M├──────\n",
      "            ├───┤│        │ ░  ║  ║  ║  ║ └╥┘┌─┐   \n",
      "controls_5: ┤ X ├┤5       ├─░──╫──╫──╫──╫──╫─┤M├───\n",
      "            ├───┤│        │ ░  ║  ║  ║  ║  ║ └╥┘┌─┐\n",
      "    target: ┤ X ├┤6       ├─░──╫──╫──╫──╫──╫──╫─┤M├\n",
      "            └───┘└────────┘ ░  ║  ║  ║  ║  ║  ║ └╥┘\n",
      "    meas: 7/═══════════════════╩══╩══╩══╩══╩══╩══╩═\n",
      "                               0  1  2  3  4  5  6 \n"
     ]
    }
   ],
   "source": [
    "real_circuit = built_circuit('x', 0.1, False)\n",
    "print(real_circuit)"
   ],
   "metadata": {
    "collapsed": false,
    "ExecuteTime": {
     "end_time": "2024-05-27T14:19:31.386335Z",
     "start_time": "2024-05-27T14:19:31.381162Z"
    }
   },
   "id": "56fa634efffb4822",
   "execution_count": 5
  },
  {
   "cell_type": "code",
   "outputs": [],
   "source": [
    "from qiskit.quantum_info import DensityMatrix\n",
    "from qiskit_aer import AerSimulator\n",
    "from qiskit_aer.noise import NoiseModel"
   ],
   "metadata": {
    "collapsed": false,
    "ExecuteTime": {
     "end_time": "2024-05-27T15:14:25.289858Z",
     "start_time": "2024-05-27T15:14:25.287625Z"
    }
   },
   "id": "3a94995b8bd53f26",
   "execution_count": 32
  },
  {
   "cell_type": "code",
   "outputs": [
    {
     "data": {
      "text/plain": "('automatic',\n 'statevector',\n 'density_matrix',\n 'stabilizer',\n 'matrix_product_state',\n 'extended_stabilizer',\n 'unitary',\n 'superop')"
     },
     "execution_count": 33,
     "metadata": {},
     "output_type": "execute_result"
    }
   ],
   "source": [
    "sim = AerSimulator\n",
    "AerSimulator.available_methods(sim)"
   ],
   "metadata": {
    "collapsed": false,
    "ExecuteTime": {
     "end_time": "2024-05-27T15:14:26.595525Z",
     "start_time": "2024-05-27T15:14:26.592211Z"
    }
   },
   "id": "d64b59458661268f",
   "execution_count": 33
  },
  {
   "cell_type": "code",
   "outputs": [],
   "source": [
    "def density_matrix(circuit):\n",
    "    \n",
    "    size = len(circuit)\n",
    "    backend = GenericBackendV2(num_qubits=size)\n",
    "    noise_model = NoiseModel.from_backend(backend)\n",
    "    \n",
    "    simulator = AerSimulator(noise_model=noise_model)\n",
    "    transpiled_circuit = transpile(circuit, simulator)\n",
    "    \n",
    "    job = simulator.run(transpiled_circuit)\n",
    "    result = job.result()\n",
    "    d_m = result.data(0)['density_matrix']\n",
    "    return d_m"
   ],
   "metadata": {
    "collapsed": false,
    "ExecuteTime": {
     "end_time": "2024-05-27T15:14:27.490451Z",
     "start_time": "2024-05-27T15:14:27.487766Z"
    }
   },
   "id": "2881dc2862bbb658",
   "execution_count": 34
  },
  {
   "cell_type": "code",
   "outputs": [
    {
     "ename": "KeyError",
     "evalue": "'density_matrix'",
     "output_type": "error",
     "traceback": [
      "\u001B[1;31m---------------------------------------------------------------------------\u001B[0m",
      "\u001B[1;31mKeyError\u001B[0m                                  Traceback (most recent call last)",
      "Cell \u001B[1;32mIn[35], line 1\u001B[0m\n\u001B[1;32m----> 1\u001B[0m rc_density_matrix \u001B[38;5;241m=\u001B[39m \u001B[43mdensity_matrix\u001B[49m\u001B[43m(\u001B[49m\u001B[43mreal_circuit\u001B[49m\u001B[43m)\u001B[49m\n",
      "Cell \u001B[1;32mIn[34], line 12\u001B[0m, in \u001B[0;36mdensity_matrix\u001B[1;34m(circuit)\u001B[0m\n\u001B[0;32m     10\u001B[0m job \u001B[38;5;241m=\u001B[39m simulator\u001B[38;5;241m.\u001B[39mrun(transpiled_circuit)\n\u001B[0;32m     11\u001B[0m result \u001B[38;5;241m=\u001B[39m job\u001B[38;5;241m.\u001B[39mresult()\n\u001B[1;32m---> 12\u001B[0m d_m \u001B[38;5;241m=\u001B[39m \u001B[43mresult\u001B[49m\u001B[38;5;241;43m.\u001B[39;49m\u001B[43mdata\u001B[49m\u001B[43m(\u001B[49m\u001B[38;5;241;43m0\u001B[39;49m\u001B[43m)\u001B[49m\u001B[43m[\u001B[49m\u001B[38;5;124;43m'\u001B[39;49m\u001B[38;5;124;43mdensity_matrix\u001B[39;49m\u001B[38;5;124;43m'\u001B[39;49m\u001B[43m]\u001B[49m\n\u001B[0;32m     13\u001B[0m \u001B[38;5;28;01mreturn\u001B[39;00m d_m\n",
      "\u001B[1;31mKeyError\u001B[0m: 'density_matrix'"
     ]
    }
   ],
   "source": [
    "rc_density_matrix = density_matrix(real_circuit)"
   ],
   "metadata": {
    "collapsed": false,
    "ExecuteTime": {
     "end_time": "2024-05-27T15:14:31.401816Z",
     "start_time": "2024-05-27T15:14:29.705585Z"
    }
   },
   "id": "1199874cd0076480",
   "execution_count": 35
  },
  {
   "cell_type": "code",
   "outputs": [],
   "source": [
    "ac_density_matrix = density_matrix(approx_circuit)"
   ],
   "metadata": {
    "collapsed": false
   },
   "id": "37b6f0c41b7f9b19"
  },
  {
   "cell_type": "markdown",
   "source": [
    "### Adicionar medida de fidelidade."
   ],
   "metadata": {
    "collapsed": false
   },
   "id": "376d4b6451c4bc74"
  },
  {
   "cell_type": "code",
   "outputs": [],
   "source": [
    "from qiskit.quantum_info import state_fidelity"
   ],
   "metadata": {
    "collapsed": false,
    "ExecuteTime": {
     "end_time": "2024-05-27T00:05:16.532722Z",
     "start_time": "2024-05-27T00:05:16.530754Z"
    }
   },
   "id": "154a21a535e98826",
   "execution_count": 74
  },
  {
   "cell_type": "code",
   "outputs": [],
   "source": [],
   "metadata": {
    "collapsed": false
   },
   "id": "1e45d89a7288ca48"
  }
 ],
 "metadata": {
  "kernelspec": {
   "display_name": "Python 3",
   "language": "python",
   "name": "python3"
  },
  "language_info": {
   "codemirror_mode": {
    "name": "ipython",
    "version": 2
   },
   "file_extension": ".py",
   "mimetype": "text/x-python",
   "name": "python",
   "nbconvert_exporter": "python",
   "pygments_lexer": "ipython2",
   "version": "2.7.6"
  }
 },
 "nbformat": 4,
 "nbformat_minor": 5
}
