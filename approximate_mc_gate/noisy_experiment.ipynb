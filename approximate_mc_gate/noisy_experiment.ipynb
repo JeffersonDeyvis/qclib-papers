{
 "cells": [
  {
   "cell_type": "markdown",
   "id": "37173b324e8500a7",
   "metadata": {
    "collapsed": false
   },
   "source": [
    "### Libraries"
   ]
  },
  {
   "cell_type": "code",
   "execution_count": 2,
   "id": "9523e6a318c717d9",
   "metadata": {
    "ExecuteTime": {
     "end_time": "2024-06-12T16:23:59.374867Z",
     "start_time": "2024-06-12T16:23:59.371495Z"
    },
    "collapsed": false
   },
   "outputs": [],
   "source": [
    "from typing import Union\n",
    "import numpy as np\n",
    "from qclib.gates.mcu import MCU\n",
    "from qclib.gates.ldmcu import Ldmcu\n",
    "from qiskit import (QuantumCircuit,\n",
    "                    QuantumRegister,\n",
    "                    transpile)\n",
    "from qiskit.providers.fake_provider import GenericBackendV2\n",
    "from qiskit.quantum_info import state_fidelity, Statevector, DensityMatrix\n",
    "from qiskit_aer import AerSimulator\n",
    "from qiskit_aer.noise import (NoiseModel, QuantumError, ReadoutError,\n",
    "    pauli_error, depolarizing_error, thermal_relaxation_error)\n",
    "import matplotlib.pyplot as plt"
   ]
  },
  {
   "cell_type": "code",
   "execution_count": 3,
   "id": "4682e7f19fb94c52",
   "metadata": {
    "ExecuteTime": {
     "end_time": "2024-06-12T16:23:59.379568Z",
     "start_time": "2024-06-12T16:23:59.375869Z"
    },
    "collapsed": false
   },
   "outputs": [],
   "source": [
    "class Utilities:\n",
    "\n",
    "    def __init__(self, operator, error):\n",
    "        self.operator = operator\n",
    "        self.error = error\n",
    "\n",
    "    @staticmethod\n",
    "    def pauli_matrices(string: str) -> Union[np.ndarray, None]:\n",
    "        string_case = string.lower()\n",
    "        match string_case:\n",
    "            case \"x\":\n",
    "                return np.array([\n",
    "                    [0, 1],\n",
    "                    [1, 0]\n",
    "                ])\n",
    "            case \"y\":\n",
    "                return np.array([\n",
    "                    [0, -1j],\n",
    "                    [1j, 0]\n",
    "                ])\n",
    "            case \"z\":\n",
    "                return np.array([\n",
    "                    [1, 0],\n",
    "                    [0, -1]\n",
    "                ])\n",
    "            case _:\n",
    "                return None\n",
    "\n",
    "    @staticmethod\n",
    "    def transpose_conjugate(operator):\n",
    "        return np.conjugate(np.transpose(operator))\n",
    "\n",
    "    @staticmethod\n",
    "    def pyramid_size(operator, error):\n",
    "        mcu_dummy = MCU(operator, num_controls=100, error=error)\n",
    "        # will be changed by mcu_dummy._get_n_base(x_dagger, error)\n",
    "        return mcu_dummy._get_num_base_ctrl_qubits(operator, error)\n"
   ]
  },
  {
   "cell_type": "code",
   "execution_count": 4,
   "id": "9a49dbad83ff304a",
   "metadata": {
    "ExecuteTime": {
     "end_time": "2024-06-12T16:23:59.383185Z",
     "start_time": "2024-06-12T16:23:59.379568Z"
    },
    "collapsed": false
   },
   "outputs": [],
   "source": [
    "def built_circuit(extra_qubits=0, pauli_string='x', error=0.1, approximated=True):\n",
    "    \n",
    "    pauli_matrix = Utilities.pauli_matrices(pauli_string)\n",
    "    pauli_matrix_dagger = Utilities.transpose_conjugate(pauli_matrix)\n",
    "    n_base = Utilities.pyramid_size(pauli_matrix_dagger, error)\n",
    "\n",
    "    controls = QuantumRegister(n_base + extra_qubits, 'controls')\n",
    "    target = QuantumRegister(1, 'target')\n",
    "    circ = QuantumCircuit(controls, target)\n",
    "    circ.x(list(range(len(controls))))\n",
    "    \n",
    "    if approximated:\n",
    "        MCU.mcu(circ, pauli_matrix_dagger, controls, target, error)\n",
    "    else:\n",
    "        Ldmcu.ldmcu(circ, pauli_matrix_dagger, controls, target)\n",
    "        \n",
    "    # circ.measure_all()\n",
    "    \n",
    "    return circ"
   ]
  },
  {
   "cell_type": "code",
   "execution_count": 22,
   "id": "28279cef",
   "metadata": {},
   "outputs": [],
   "source": [
    "def create_noise_model():\n",
    "    #noise_model = NoiseModel.from_backend(backend)\n",
    "    # Create an empty noise model\n",
    "    noise_model = NoiseModel()\n",
    "\n",
    "    # Add depolarizing error to all single qubit u1, u2, u3 gates\n",
    "    error_1qubit = depolarizing_error(0.0001, 1)\n",
    "    error_2qubit = depolarizing_error(0.001, 2)\n",
    "    noise_model.add_all_qubit_quantum_error(error_1qubit, ['u1', 'u2', 'u3'])\n",
    "    noise_model.add_all_qubit_quantum_error(error_2qubit, ['cx'])\n",
    "    # Measurement miss-assignement probabilities (No Effect)\n",
    "    #p0given1 = 0.5\n",
    "    #p1given0 = 0.5\n",
    "    #readout = ReadoutError([[1 - p1given0, p1given0], [p0given1, 1 - p0given1]])\n",
    "    #noise_model.add_all_qubit_readout_error(readout)\n",
    "    return noise_model\n",
    "\n"
   ]
  },
  {
   "cell_type": "code",
   "execution_count": 23,
   "id": "e0af82c2",
   "metadata": {},
   "outputs": [],
   "source": [
    "def density_matrix(circuit):\n",
    "    \n",
    "    noise_model = create_noise_model()\n",
    "    simulator = AerSimulator(noise_model=noise_model, method='density_matrix')\n",
    "    transpiled_circuit = transpile(circuit, simulator, basis_gates= noise_model.basis_gates)\n",
    "    transpiled_circuit.save_density_matrix()\n",
    "    \n",
    "    job = simulator.run(transpiled_circuit)\n",
    "    result = job.result()\n",
    "    d_m = result.data(0)\n",
    "    \n",
    "    return d_m"
   ]
  },
  {
   "cell_type": "code",
   "execution_count": 24,
   "id": "1d08bc62",
   "metadata": {},
   "outputs": [],
   "source": [
    "def density_matrix_noiseless(circuit):\n",
    "    \n",
    "    size = len(circuit)\n",
    "    simulator = AerSimulator( method='density_matrix')\n",
    "    transpiled_circuit = transpile(circuit, simulator)\n",
    "    transpiled_circuit.save_density_matrix()\n",
    "    \n",
    "    job = simulator.run(transpiled_circuit)\n",
    "    result = job.result()\n",
    "    d_m = result.data(0)\n",
    "\n",
    "    return d_m"
   ]
  },
  {
   "cell_type": "markdown",
   "id": "376d4b6451c4bc74",
   "metadata": {
    "collapsed": false
   },
   "source": [
    "### Novos experimentos"
   ]
  },
  {
   "cell_type": "code",
   "execution_count": 28,
   "id": "fbe57d99",
   "metadata": {},
   "outputs": [
    {
     "name": "stdout",
     "output_type": "stream",
     "text": [
      "Ne =  0\n",
      "Exact 0.9060109763562219\n",
      "Approx 0.9053280547091812\n",
      "Ne =  1\n",
      "Exact 0.8717731227154056\n",
      "Approx 0.8909534510782845\n",
      "Ne =  2\n",
      "Exact 0.8335155914634449\n",
      "Approx 0.8625675999139574\n",
      "Ne =  3\n",
      "Exact 0.7918943140297156\n",
      "Approx 0.8350610099377931\n"
     ]
    }
   ],
   "source": [
    "#Se for útil, deixamos isso tudo como uma função de M e n_extra\n",
    "#M = 3\n",
    "n_extra = [0,1,2,3]\n",
    "fidelity_exact = np.zeros((len(n_extra)))\n",
    "fidelity_approx = np.zeros((len(n_extra)))\n",
    "\n",
    "error = 0.1\n",
    "matrix = 'x'\n",
    "\n",
    "for i in range(len(n_extra)):\n",
    "    ne = n_extra[i]\n",
    "    approx_circuit = built_circuit(ne, matrix, error)\n",
    "    real_circuit = built_circuit(ne, matrix, error, False)\n",
    "\n",
    "    t_array = np.zeros(2**len(real_circuit))\n",
    "    t_array[-1] = 1\n",
    "    t_dm = DensityMatrix(t_array)\n",
    "    print(\"Ne = \", ne)\n",
    "\n",
    "    #for k in range(M):\n",
    "    exact_decomposition_dm = density_matrix(real_circuit)\n",
    "    approximated_decomposition_dm = density_matrix(approx_circuit)\n",
    "    fidelity_exact[ne] = state_fidelity(t_dm, exact_decomposition_dm['density_matrix'])\n",
    "    fidelity_approx[ne] = state_fidelity(t_dm, approximated_decomposition_dm['density_matrix'])\n",
    "\n",
    "\n",
    "    print(\"Exact\", fidelity_exact[i])\n",
    "    print(\"Approx\", fidelity_approx[i])"
   ]
  },
  {
   "cell_type": "markdown",
   "id": "ebda804e",
   "metadata": {},
   "source": [
    "### Experimentos antigos"
   ]
  },
  {
   "cell_type": "code",
   "execution_count": 18,
   "id": "71e45a6d",
   "metadata": {},
   "outputs": [
    {
     "name": "stdout",
     "output_type": "stream",
     "text": [
      "Ne =  0\n",
      "0.5907192704008323 0.02913509344287548\n",
      "0.5891957930721783 0.03373324101788872\n",
      "Ne =  1\n",
      "0.4915427464348829 0.024711643650861245\n",
      "0.5293876118614685 0.03917868161620722\n",
      "Ne =  2\n",
      "0.40097801969852404 0.02587425016326948\n",
      "0.45371054636893793 0.03249792249700125\n",
      "Ne =  3\n",
      "0.3046776029021234 0.025662763676235677\n",
      "0.38025235756133846 0.033575292671178196\n"
     ]
    }
   ],
   "source": [
    "#Se for útil, deixamos isso tudo como uma função de M e n_extra\n",
    "M = 30\n",
    "n_extra = [0,1,2,3]\n",
    "fidelity_exact = np.zeros((len(n_extra), M))\n",
    "fidelity_noisy = np.zeros((len(n_extra), M))\n",
    "\n",
    "error = 0.1\n",
    "matrix = 'x'\n",
    "\n",
    "for i in range(len(n_extra)):\n",
    "    ne = n_extra[i]\n",
    "    approx_circuit = built_circuit(ne, matrix, error)\n",
    "    real_circuit = built_circuit(ne, matrix, error, False)\n",
    "\n",
    "    t_array = np.zeros(2**len(real_circuit))\n",
    "    t_array[-1] = 1\n",
    "    t_dm = DensityMatrix(t_array)\n",
    "    print(\"Ne = \", ne)\n",
    "\n",
    "    for k in range(M):\n",
    "        exact_decomposition_dm = density_matrix(real_circuit)\n",
    "        approximated_decomposition_dm = density_matrix(approx_circuit)\n",
    "        fidelity_exact[ne][k] = state_fidelity(t_dm, exact_decomposition_dm['density_matrix'])\n",
    "        fidelity_noisy[ne][k] = state_fidelity(t_dm, approximated_decomposition_dm['density_matrix'])\n",
    "\n",
    "\n",
    "    print(fidelity_exact[i].mean(), fidelity_exact[i].std())\n",
    "    print(fidelity_noisy[i].mean(), fidelity_noisy[i].std())\n"
   ]
  },
  {
   "cell_type": "markdown",
   "id": "9bb34157",
   "metadata": {},
   "source": [
    "### Noiseless"
   ]
  },
  {
   "cell_type": "code",
   "execution_count": 77,
   "id": "dbb95ad8",
   "metadata": {},
   "outputs": [
    {
     "name": "stdout",
     "output_type": "stream",
     "text": [
      "1.000000000000031\n",
      "0.9975923633361293\n"
     ]
    }
   ],
   "source": [
    "t_array = np.zeros(2**n1)\n",
    "t_array[-1] = 1\n",
    "t_dm = DensityMatrix(t_array)\n",
    "exact_decomposition_dm, n1 = density_matrix_noiseless(real_circuit)\n",
    "approximated_decomposition_dm, n2 = density_matrix_noiseless(approx_circuit)\n",
    "print(state_fidelity(t_dm, exact_decomposition_dm['density_matrix']))\n",
    "print(state_fidelity(t_dm, approximated_decomposition_dm['density_matrix']))"
   ]
  },
  {
   "cell_type": "markdown",
   "id": "c9ad2c05",
   "metadata": {},
   "source": [
    "### State Vector (OLD)"
   ]
  },
  {
   "cell_type": "code",
   "execution_count": null,
   "id": "9c271133",
   "metadata": {},
   "outputs": [],
   "source": [
    "def state_vector(circuit):\n",
    "    \n",
    "    size = len(circuit)\n",
    "    backend = GenericBackendV2(num_qubits=size, seed=42)\n",
    "    noise_model = NoiseModel.from_backend(backend)\n",
    "    \n",
    "    simulator = AerSimulator(noise_model=noise_model)\n",
    "    transpiled_circuit = transpile(circuit, simulator, basis_gates= noise_model.basis_gates)\n",
    "    transpiled_circuit.save_statevector()\n",
    "    \n",
    "    job = simulator.run(transpiled_circuit)\n",
    "    result = job.result()\n",
    "    sv = result.get_statevector()\n",
    "    # result = job.result().get_counts(0)\n",
    "    # d_m = DensityMatrix(transpiled_circuit)\n",
    "    return sv, size"
   ]
  },
  {
   "cell_type": "code",
   "execution_count": null,
   "id": "55ab2f0f",
   "metadata": {},
   "outputs": [],
   "source": [
    "def state_vector_noiseless(circuit):\n",
    "    \n",
    "    size = len(circuit)\n",
    "    \n",
    "    simulator = AerSimulator()\n",
    "    transpiled_circuit = transpile(circuit, simulator)\n",
    "    transpiled_circuit.save_statevector()\n",
    "    \n",
    "    job = simulator.run(transpiled_circuit)\n",
    "    result = job.result()\n",
    "    sv = result.get_statevector()\n",
    "    return sv, size"
   ]
  },
  {
   "cell_type": "code",
   "execution_count": 72,
   "id": "1e45d89a7288ca48",
   "metadata": {
    "ExecuteTime": {
     "end_time": "2024-06-12T16:24:00.270309Z",
     "start_time": "2024-06-12T16:24:00.266721Z"
    },
    "collapsed": false
   },
   "outputs": [
    {
     "name": "stdout",
     "output_type": "stream",
     "text": [
      "0.9998062260475085\n",
      "2.166108588537142e-28\n"
     ]
    }
   ],
   "source": [
    "exact_decomposition_s_vector, n1 = state_vector(real_circuit)\n",
    "t_array = np.zeros(2**n1)\n",
    "t_array[-1] = 1\n",
    "t_state_vector = Statevector(t_array)\n",
    "approximated_decomposition_s_vector, n2 = state_vector(approx_circuit)\n",
    "print(state_fidelity(t_state_vector, exact_decomposition_s_vector))\n",
    "print(state_fidelity(t_state_vector, approximated_decomposition_s_vector))"
   ]
  },
  {
   "cell_type": "code",
   "execution_count": 51,
   "id": "d6538bda3322c1a",
   "metadata": {
    "ExecuteTime": {
     "end_time": "2024-06-12T16:24:00.277486Z",
     "start_time": "2024-06-12T16:24:00.275368Z"
    },
    "collapsed": false
   },
   "outputs": [
    {
     "name": "stdout",
     "output_type": "stream",
     "text": [
      "1.000000000000004\n",
      "0.9975923633361053\n"
     ]
    }
   ],
   "source": [
    "exact_decomposition_s_vector, n1 = state_vector_noiseless(real_circuit)\n",
    "t_array = np.zeros(2**n1)\n",
    "t_array[-1] = 1\n",
    "t_state_vector = Statevector(t_array)\n",
    "approximated_decomposition_s_vector, n2 = state_vector_noiseless(approx_circuit)\n",
    "print(state_fidelity(t_state_vector, exact_decomposition_s_vector))\n",
    "print(state_fidelity(t_state_vector, approximated_decomposition_s_vector))"
   ]
  },
  {
   "cell_type": "code",
   "execution_count": null,
   "id": "1cf64f41",
   "metadata": {},
   "outputs": [],
   "source": []
  }
 ],
 "metadata": {
  "kernelspec": {
   "display_name": "Python 3",
   "language": "python",
   "name": "python3"
  },
  "language_info": {
   "codemirror_mode": {
    "name": "ipython",
    "version": 3
   },
   "file_extension": ".py",
   "mimetype": "text/x-python",
   "name": "python",
   "nbconvert_exporter": "python",
   "pygments_lexer": "ipython3",
   "version": "3.12.3"
  }
 },
 "nbformat": 4,
 "nbformat_minor": 5
}
