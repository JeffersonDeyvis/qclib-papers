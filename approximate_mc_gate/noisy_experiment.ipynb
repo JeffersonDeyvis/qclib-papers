{
 "cells": [
  {
   "cell_type": "markdown",
   "source": [
    "### Libraries"
   ],
   "metadata": {
    "collapsed": false
   },
   "id": "37173b324e8500a7"
  },
  {
   "cell_type": "code",
   "outputs": [],
   "source": [
    "from typing import Union\n",
    "import numpy as np\n",
    "from qclib.gates.mcu import MCU\n",
    "from qclib.gates.ldmcu import Ldmcu\n",
    "from qiskit import (QuantumCircuit,\n",
    "                    QuantumRegister,\n",
    "                    transpile)\n",
    "from qiskit.providers.fake_provider import GenericBackendV2\n",
    "# from joblib import Parallel, delayed\n",
    "import matplotlib.pyplot as plt"
   ],
   "metadata": {
    "collapsed": false,
    "ExecuteTime": {
     "end_time": "2024-05-26T23:10:10.120243Z",
     "start_time": "2024-05-26T23:10:10.117212Z"
    }
   },
   "id": "9523e6a318c717d9",
   "execution_count": 26
  },
  {
   "cell_type": "code",
   "outputs": [],
   "source": [
    "class Utilities:\n",
    "\n",
    "    def __init__(self, operator, error):\n",
    "        self.operator = operator\n",
    "        self.error = error\n",
    "\n",
    "    @staticmethod\n",
    "    def pauli_matrices(string: str) -> Union[np.ndarray, None]:\n",
    "        string_case = string.lower()\n",
    "        match string_case:\n",
    "            case \"x\":\n",
    "                return np.array([\n",
    "                    [0, 1],\n",
    "                    [1, 0]\n",
    "                ])\n",
    "            case \"y\":\n",
    "                return np.array([\n",
    "                    [0, -1j],\n",
    "                    [1j, 0]\n",
    "                ])\n",
    "            case \"z\":\n",
    "                return np.array([\n",
    "                    [1, 0],\n",
    "                    [0, -1]\n",
    "                ])\n",
    "            case _:\n",
    "                return None\n",
    "\n",
    "    @staticmethod\n",
    "    def transpose_conjugate(operator):\n",
    "        return np.conjugate(np.transpose(operator))\n",
    "\n",
    "    @staticmethod\n",
    "    def pyramid_size(operator, error):\n",
    "        mcu_dummy = MCU(operator, num_controls=100, error=error)\n",
    "        # will be changed by mcu_dummy._get_n_base(x_dagger, error)\n",
    "        return mcu_dummy._get_num_base_ctrl_qubits(operator, error)\n"
   ],
   "metadata": {
    "collapsed": false,
    "ExecuteTime": {
     "end_time": "2024-05-26T23:03:02.577628Z",
     "start_time": "2024-05-26T23:03:02.572981Z"
    }
   },
   "id": "4682e7f19fb94c52",
   "execution_count": 2
  },
  {
   "cell_type": "code",
   "outputs": [],
   "source": [
    "def built_circuit(pauli_string='x', error=0.1, approximated = True):\n",
    "    \n",
    "    pauli_matrix = Utilities.pauli_matrices(pauli_string)\n",
    "    pauli_matrix_dagger = Utilities.transpose_conjugate(pauli_matrix)\n",
    "    n_base = Utilities.pyramid_size(pauli_matrix_dagger, error)\n",
    "\n",
    "    controls = QuantumRegister(n_base, 'controls')\n",
    "    target = QuantumRegister(1, 'target')\n",
    "    circ = QuantumCircuit(controls, target)\n",
    "    circ.x(list(range(len(controls)+1)))\n",
    "    \n",
    "    if approximated:\n",
    "        MCU.mcu(circ, pauli_matrix_dagger, controls, target, error)\n",
    "    else:\n",
    "        Ldmcu.ldmcu(circ, pauli_matrix_dagger, controls, target)\n",
    "        \n",
    "    circ.measure_all()\n",
    "    \n",
    "    return circ"
   ],
   "metadata": {
    "collapsed": false,
    "ExecuteTime": {
     "end_time": "2024-05-26T23:13:13.553231Z",
     "start_time": "2024-05-26T23:13:13.549593Z"
    }
   },
   "id": "9a49dbad83ff304a",
   "execution_count": 39
  },
  {
   "cell_type": "code",
   "outputs": [
    {
     "name": "stdout",
     "output_type": "stream",
     "text": [
      "            ┌───┐┌──────────────┐ ░ ┌─┐                  \n",
      "controls_0: ┤ X ├┤0             ├─░─┤M├──────────────────\n",
      "            ├───┤│              │ ░ └╥┘┌─┐               \n",
      "controls_1: ┤ X ├┤1             ├─░──╫─┤M├───────────────\n",
      "            ├───┤│              │ ░  ║ └╥┘┌─┐            \n",
      "controls_2: ┤ X ├┤2             ├─░──╫──╫─┤M├────────────\n",
      "            ├───┤│              │ ░  ║  ║ └╥┘┌─┐         \n",
      "controls_3: ┤ X ├┤3 Ldmcuapprox ├─░──╫──╫──╫─┤M├─────────\n",
      "            ├───┤│              │ ░  ║  ║  ║ └╥┘┌─┐      \n",
      "controls_4: ┤ X ├┤4             ├─░──╫──╫──╫──╫─┤M├──────\n",
      "            ├───┤│              │ ░  ║  ║  ║  ║ └╥┘┌─┐   \n",
      "controls_5: ┤ X ├┤5             ├─░──╫──╫──╫──╫──╫─┤M├───\n",
      "            ├───┤│              │ ░  ║  ║  ║  ║  ║ └╥┘┌─┐\n",
      "    target: ┤ X ├┤6             ├─░──╫──╫──╫──╫──╫──╫─┤M├\n",
      "            └───┘└──────────────┘ ░  ║  ║  ║  ║  ║  ║ └╥┘\n",
      "    meas: 7/═════════════════════════╩══╩══╩══╩══╩══╩══╩═\n",
      "                                     0  1  2  3  4  5  6 \n"
     ]
    }
   ],
   "source": [
    "approx_circuit = built_circuit('x', 0.1)\n",
    "print(approx_circuit)"
   ],
   "metadata": {
    "collapsed": false,
    "ExecuteTime": {
     "end_time": "2024-05-26T23:13:14.087067Z",
     "start_time": "2024-05-26T23:13:14.081277Z"
    }
   },
   "id": "7803f0d6c89dc9d0",
   "execution_count": 40
  },
  {
   "cell_type": "code",
   "outputs": [
    {
     "name": "stdout",
     "output_type": "stream",
     "text": [
      "            ┌───┐┌────────┐ ░ ┌─┐                  \n",
      "controls_0: ┤ X ├┤0       ├─░─┤M├──────────────────\n",
      "            ├───┤│        │ ░ └╥┘┌─┐               \n",
      "controls_1: ┤ X ├┤1       ├─░──╫─┤M├───────────────\n",
      "            ├───┤│        │ ░  ║ └╥┘┌─┐            \n",
      "controls_2: ┤ X ├┤2       ├─░──╫──╫─┤M├────────────\n",
      "            ├───┤│        │ ░  ║  ║ └╥┘┌─┐         \n",
      "controls_3: ┤ X ├┤3 Ldmcu ├─░──╫──╫──╫─┤M├─────────\n",
      "            ├───┤│        │ ░  ║  ║  ║ └╥┘┌─┐      \n",
      "controls_4: ┤ X ├┤4       ├─░──╫──╫──╫──╫─┤M├──────\n",
      "            ├───┤│        │ ░  ║  ║  ║  ║ └╥┘┌─┐   \n",
      "controls_5: ┤ X ├┤5       ├─░──╫──╫──╫──╫──╫─┤M├───\n",
      "            ├───┤│        │ ░  ║  ║  ║  ║  ║ └╥┘┌─┐\n",
      "    target: ┤ X ├┤6       ├─░──╫──╫──╫──╫──╫──╫─┤M├\n",
      "            └───┘└────────┘ ░  ║  ║  ║  ║  ║  ║ └╥┘\n",
      "    meas: 7/═══════════════════╩══╩══╩══╩══╩══╩══╩═\n",
      "                               0  1  2  3  4  5  6 \n"
     ]
    }
   ],
   "source": [
    "real_circuit = built_circuit('x', 0.1, False)\n",
    "print(real_circuit)"
   ],
   "metadata": {
    "collapsed": false,
    "ExecuteTime": {
     "end_time": "2024-05-26T23:13:21.594941Z",
     "start_time": "2024-05-26T23:13:21.589160Z"
    }
   },
   "id": "56fa634efffb4822",
   "execution_count": 41
  },
  {
   "cell_type": "code",
   "outputs": [],
   "source": [
    "from qiskit.quantum_info import DensityMatrix\n",
    "from qiskit_aer.noise import NoiseModel"
   ],
   "metadata": {
    "collapsed": false,
    "ExecuteTime": {
     "end_time": "2024-05-27T00:04:48.400017Z",
     "start_time": "2024-05-27T00:04:48.397232Z"
    }
   },
   "id": "3a94995b8bd53f26",
   "execution_count": 72
  },
  {
   "cell_type": "code",
   "outputs": [],
   "source": [
    "def density_matrix(circuit):\n",
    "    size = len(circuit)\n",
    "    # Generate a size-qubit simulated backend\n",
    "    backend = GenericBackendV2(num_qubits=size)\n",
    "    \n",
    "    # Transpile the circuit to a circuit that can be directly executed by the backend\n",
    "    transpiled_circuit = transpile(circuit, backend)\n",
    "    # transpiled_circuit.save_density_matrix() -> método antigo da API\n",
    "    \n",
    "    noise_model = NoiseModel.from_backend(backend)\n",
    "    \n",
    "    \n",
    "    # Run the transpiled circuit using the simulated fake backend\n",
    "    job = backend.run(transpiled_circuit)\n",
    "    result = job.result()\n",
    "    \n",
    "    # Get the density matrix\n",
    "    d_m = result.data(0)['density_matrix']\n",
    "    return d_m"
   ],
   "metadata": {
    "collapsed": false,
    "ExecuteTime": {
     "end_time": "2024-05-27T00:06:04.330638Z",
     "start_time": "2024-05-27T00:06:04.327289Z"
    }
   },
   "id": "2881dc2862bbb658",
   "execution_count": 75
  },
  {
   "cell_type": "code",
   "outputs": [
    {
     "name": "stderr",
     "output_type": "stream",
     "text": [
      "D:\\UFPE\\env_paper\\qclib-papers\\Lib\\site-packages\\qiskit\\providers\\fake_provider\\generic_backend_v2.py:506: RuntimeWarning: Aer not found using BasicSimulator and no noise\n",
      "  warnings.warn(\"Aer not found using BasicSimulator and no noise\", RuntimeWarning)\n"
     ]
    },
    {
     "ename": "KeyError",
     "evalue": "'density_matrix'",
     "output_type": "error",
     "traceback": [
      "\u001B[1;31m---------------------------------------------------------------------------\u001B[0m",
      "\u001B[1;31mKeyError\u001B[0m                                  Traceback (most recent call last)",
      "Cell \u001B[1;32mIn[69], line 1\u001B[0m\n\u001B[1;32m----> 1\u001B[0m rc_density_matrix \u001B[38;5;241m=\u001B[39m \u001B[43mdensity_matrix\u001B[49m\u001B[43m(\u001B[49m\u001B[43mreal_circuit\u001B[49m\u001B[43m)\u001B[49m\n",
      "Cell \u001B[1;32mIn[68], line 15\u001B[0m, in \u001B[0;36mdensity_matrix\u001B[1;34m(circuit)\u001B[0m\n\u001B[0;32m     12\u001B[0m result \u001B[38;5;241m=\u001B[39m job\u001B[38;5;241m.\u001B[39mresult()\n\u001B[0;32m     14\u001B[0m \u001B[38;5;66;03m# Get the density matrix\u001B[39;00m\n\u001B[1;32m---> 15\u001B[0m d_m \u001B[38;5;241m=\u001B[39m \u001B[43mresult\u001B[49m\u001B[38;5;241;43m.\u001B[39;49m\u001B[43mdata\u001B[49m\u001B[43m(\u001B[49m\u001B[38;5;241;43m0\u001B[39;49m\u001B[43m)\u001B[49m\u001B[43m[\u001B[49m\u001B[38;5;124;43m'\u001B[39;49m\u001B[38;5;124;43mdensity_matrix\u001B[39;49m\u001B[38;5;124;43m'\u001B[39;49m\u001B[43m]\u001B[49m\n\u001B[0;32m     16\u001B[0m \u001B[38;5;28;01mreturn\u001B[39;00m d_m\n",
      "\u001B[1;31mKeyError\u001B[0m: 'density_matrix'"
     ]
    }
   ],
   "source": [
    "rc_density_matrix = density_matrix(real_circuit)"
   ],
   "metadata": {
    "collapsed": false,
    "ExecuteTime": {
     "end_time": "2024-05-26T23:58:04.109336Z",
     "start_time": "2024-05-26T23:58:03.562452Z"
    }
   },
   "id": "1199874cd0076480",
   "execution_count": 69
  },
  {
   "cell_type": "code",
   "outputs": [],
   "source": [
    "ac_density_matrix = density_matrix(approx_circuit)"
   ],
   "metadata": {
    "collapsed": false
   },
   "id": "37b6f0c41b7f9b19"
  },
  {
   "cell_type": "markdown",
   "source": [
    "### Adicionar medida de fidelidade."
   ],
   "metadata": {
    "collapsed": false
   },
   "id": "376d4b6451c4bc74"
  },
  {
   "cell_type": "code",
   "outputs": [],
   "source": [
    "from qiskit.quantum_info import state_fidelity"
   ],
   "metadata": {
    "collapsed": false,
    "ExecuteTime": {
     "end_time": "2024-05-27T00:05:16.532722Z",
     "start_time": "2024-05-27T00:05:16.530754Z"
    }
   },
   "id": "154a21a535e98826",
   "execution_count": 74
  },
  {
   "cell_type": "code",
   "outputs": [
    {
     "data": {
      "text/plain": "        ┌───┐      ░ ┌─┐      \n   q_0: ┤ X ├──■───░─┤M├──────\n        ├───┤  │   ░ └╥┘┌─┐   \n   q_1: ┤ X ├──■───░──╫─┤M├───\n        ├───┤┌─┴─┐ ░  ║ └╥┘┌─┐\n   q_2: ┤ X ├┤ X ├─░──╫──╫─┤M├\n        └───┘└───┘ ░  ║  ║ └╥┘\nmeas: 3/══════════════╩══╩══╩═\n                      0  1  2 ",
      "text/html": "<pre style=\"word-wrap: normal;white-space: pre;background: #fff0;line-height: 1.1;font-family: &quot;Courier New&quot;,Courier,monospace\">        ┌───┐      ░ ┌─┐      \n   q_0: ┤ X ├──■───░─┤M├──────\n        ├───┤  │   ░ └╥┘┌─┐   \n   q_1: ┤ X ├──■───░──╫─┤M├───\n        ├───┤┌─┴─┐ ░  ║ └╥┘┌─┐\n   q_2: ┤ X ├┤ X ├─░──╫──╫─┤M├\n        └───┘└───┘ ░  ║  ║ └╥┘\nmeas: 3/══════════════╩══╩══╩═\n                      0  1  2 </pre>"
     },
     "execution_count": 96,
     "metadata": {},
     "output_type": "execute_result"
    }
   ],
   "source": [
    "c1 = QuantumCircuit(3)\n",
    "c1.x(range(3))\n",
    "c1.ccx(0,1,2)\n",
    "c1.measure_all()\n",
    "c1.draw('text')"
   ],
   "metadata": {
    "collapsed": false,
    "ExecuteTime": {
     "end_time": "2024-05-26T21:47:10.586941Z",
     "start_time": "2024-05-26T21:47:10.581227Z"
    }
   },
   "id": "4375254295e962af",
   "execution_count": 96
  },
  {
   "cell_type": "code",
   "outputs": [],
   "source": [],
   "metadata": {
    "collapsed": false
   },
   "id": "1e45d89a7288ca48"
  }
 ],
 "metadata": {
  "kernelspec": {
   "display_name": "Python 3",
   "language": "python",
   "name": "python3"
  },
  "language_info": {
   "codemirror_mode": {
    "name": "ipython",
    "version": 2
   },
   "file_extension": ".py",
   "mimetype": "text/x-python",
   "name": "python",
   "nbconvert_exporter": "python",
   "pygments_lexer": "ipython2",
   "version": "2.7.6"
  }
 },
 "nbformat": 4,
 "nbformat_minor": 5
}
